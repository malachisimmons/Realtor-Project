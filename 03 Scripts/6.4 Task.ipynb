{
 "cells": [
  {
   "cell_type": "markdown",
   "id": "6b66fa43-d3ad-4427-a054-6fe197201779",
   "metadata": {},
   "source": [
    "# 6.4 Supervised Machine Learning: Regression"
   ]
  },
  {
   "cell_type": "markdown",
   "id": "43ab098d-deab-4d0a-8cd1-f2c26a191d81",
   "metadata": {},
   "source": [
    "## Imports"
   ]
  },
  {
   "cell_type": "code",
   "execution_count": 1,
   "id": "9cf52525-05d8-49eb-9aac-2545b23f3e04",
   "metadata": {},
   "outputs": [],
   "source": [
    "# Importing Libraries\n",
    "import pandas as pd\n",
    "import numpy as np\n",
    "import seaborn as sns\n",
    "import matplotlib\n",
    "import matplotlib.pyplot as plt\n",
    "import os\n",
    "import sklearn\n",
    "from sklearn.model_selection import train_test_split \n",
    "from sklearn.linear_model import LinearRegression\n",
    "from sklearn.metrics import mean_squared_error, r2_score"
   ]
  },
  {
   "cell_type": "code",
   "execution_count": 2,
   "id": "a8734225-2b9c-4100-9765-6d4b2d5ece60",
   "metadata": {},
   "outputs": [],
   "source": [
    "# This option ensures that the graphs you create are displayed within the notebook without the need to \"call\" them specifically.\n",
    "\n",
    "%matplotlib inline"
   ]
  },
  {
   "cell_type": "code",
   "execution_count": 3,
   "id": "3ce99620-2a4d-4ec3-8882-1854fed7ffab",
   "metadata": {},
   "outputs": [],
   "source": [
    "path = r'C:\\Users\\malac\\Downloads\\Realtor.com cf'"
   ]
  },
  {
   "cell_type": "code",
   "execution_count": 4,
   "id": "da895c83-39e2-4d1e-9314-2fa71e8d706b",
   "metadata": {},
   "outputs": [
    {
     "data": {
      "text/plain": [
       "'C:\\\\Users\\\\malac\\\\Downloads\\\\Realtor.com cf'"
      ]
     },
     "execution_count": 4,
     "metadata": {},
     "output_type": "execute_result"
    }
   ],
   "source": [
    "path"
   ]
  },
  {
   "cell_type": "code",
   "execution_count": 9,
   "id": "f94626d3-a122-429c-a35e-e48e574fef3c",
   "metadata": {},
   "outputs": [],
   "source": [
    "df = pd.read_pickle(os.path.join(path, '03 Scripts', 'realtor-dataset-100k.pkl'))"
   ]
  },
  {
   "cell_type": "markdown",
   "id": "e28c994e-c930-4ab0-8fce-32d382de8ec9",
   "metadata": {},
   "source": [
    "# Data Cleaning"
   ]
  },
  {
   "cell_type": "code",
   "execution_count": 14,
   "id": "26360545-8f44-40d0-ba4f-911207701ac7",
   "metadata": {},
   "outputs": [
    {
     "data": {
      "text/plain": [
       "Index(['status', 'price', 'bed', 'bath', 'acre_lot', 'city', 'state',\n",
       "       'house_size', 'sold_date'],\n",
       "      dtype='object')"
      ]
     },
     "execution_count": 14,
     "metadata": {},
     "output_type": "execute_result"
    }
   ],
   "source": [
    "# Check columns\n",
    "\n",
    "df.columns"
   ]
  },
  {
   "cell_type": "code",
   "execution_count": 15,
   "id": "1bdc915b-5fd5-45c4-b63f-e11192cab6ba",
   "metadata": {},
   "outputs": [
    {
     "data": {
      "text/plain": [
       "(9307, 9)"
      ]
     },
     "execution_count": 15,
     "metadata": {},
     "output_type": "execute_result"
    }
   ],
   "source": [
    "# Check shape of df\n",
    "\n",
    "df.shape"
   ]
  },
  {
   "cell_type": "code",
   "execution_count": 16,
   "id": "84bec2c4-396e-4737-b6c7-35248cf419f9",
   "metadata": {},
   "outputs": [
    {
     "data": {
      "text/html": [
       "<div>\n",
       "<style scoped>\n",
       "    .dataframe tbody tr th:only-of-type {\n",
       "        vertical-align: middle;\n",
       "    }\n",
       "\n",
       "    .dataframe tbody tr th {\n",
       "        vertical-align: top;\n",
       "    }\n",
       "\n",
       "    .dataframe thead th {\n",
       "        text-align: right;\n",
       "    }\n",
       "</style>\n",
       "<table border=\"1\" class=\"dataframe\">\n",
       "  <thead>\n",
       "    <tr style=\"text-align: right;\">\n",
       "      <th></th>\n",
       "      <th>status</th>\n",
       "      <th>price</th>\n",
       "      <th>bed</th>\n",
       "      <th>bath</th>\n",
       "      <th>acre_lot</th>\n",
       "      <th>city</th>\n",
       "      <th>state</th>\n",
       "      <th>house_size</th>\n",
       "      <th>sold_date</th>\n",
       "    </tr>\n",
       "  </thead>\n",
       "  <tbody>\n",
       "    <tr>\n",
       "      <th>0</th>\n",
       "      <td>for_sale</td>\n",
       "      <td>105000</td>\n",
       "      <td>3</td>\n",
       "      <td>2</td>\n",
       "      <td>0</td>\n",
       "      <td>Adjuntas</td>\n",
       "      <td>Puerto Rico</td>\n",
       "      <td>920</td>\n",
       "      <td>0</td>\n",
       "    </tr>\n",
       "    <tr>\n",
       "      <th>1</th>\n",
       "      <td>for_sale</td>\n",
       "      <td>80000</td>\n",
       "      <td>4</td>\n",
       "      <td>2</td>\n",
       "      <td>0</td>\n",
       "      <td>Adjuntas</td>\n",
       "      <td>Puerto Rico</td>\n",
       "      <td>1527</td>\n",
       "      <td>0</td>\n",
       "    </tr>\n",
       "    <tr>\n",
       "      <th>2</th>\n",
       "      <td>for_sale</td>\n",
       "      <td>67000</td>\n",
       "      <td>2</td>\n",
       "      <td>1</td>\n",
       "      <td>0</td>\n",
       "      <td>Juana Diaz</td>\n",
       "      <td>Puerto Rico</td>\n",
       "      <td>748</td>\n",
       "      <td>0</td>\n",
       "    </tr>\n",
       "    <tr>\n",
       "      <th>3</th>\n",
       "      <td>for_sale</td>\n",
       "      <td>145000</td>\n",
       "      <td>4</td>\n",
       "      <td>2</td>\n",
       "      <td>0</td>\n",
       "      <td>Ponce</td>\n",
       "      <td>Puerto Rico</td>\n",
       "      <td>1800</td>\n",
       "      <td>0</td>\n",
       "    </tr>\n",
       "    <tr>\n",
       "      <th>5</th>\n",
       "      <td>for_sale</td>\n",
       "      <td>179000</td>\n",
       "      <td>4</td>\n",
       "      <td>3</td>\n",
       "      <td>0</td>\n",
       "      <td>San Sebastian</td>\n",
       "      <td>Puerto Rico</td>\n",
       "      <td>2520</td>\n",
       "      <td>0</td>\n",
       "    </tr>\n",
       "  </tbody>\n",
       "</table>\n",
       "</div>"
      ],
      "text/plain": [
       "     status   price  bed  bath  acre_lot           city        state  \\\n",
       "0  for_sale  105000    3     2         0       Adjuntas  Puerto Rico   \n",
       "1  for_sale   80000    4     2         0       Adjuntas  Puerto Rico   \n",
       "2  for_sale   67000    2     1         0     Juana Diaz  Puerto Rico   \n",
       "3  for_sale  145000    4     2         0          Ponce  Puerto Rico   \n",
       "5  for_sale  179000    4     3         0  San Sebastian  Puerto Rico   \n",
       "\n",
       "   house_size sold_date  \n",
       "0         920         0  \n",
       "1        1527         0  \n",
       "2         748         0  \n",
       "3        1800         0  \n",
       "5        2520         0  "
      ]
     },
     "execution_count": 16,
     "metadata": {},
     "output_type": "execute_result"
    }
   ],
   "source": [
    "df.head()"
   ]
  },
  {
   "cell_type": "code",
   "execution_count": 17,
   "id": "4ff1ec87-c381-457e-84ea-585651bf4c3f",
   "metadata": {},
   "outputs": [
    {
     "data": {
      "text/plain": [
       "status        0\n",
       "price         0\n",
       "bed           0\n",
       "bath          0\n",
       "acre_lot      0\n",
       "city          1\n",
       "state         0\n",
       "house_size    0\n",
       "sold_date     0\n",
       "dtype: int64"
      ]
     },
     "execution_count": 17,
     "metadata": {},
     "output_type": "execute_result"
    }
   ],
   "source": [
    "# Check for nulls\n",
    "\n",
    "df.isnull().sum()"
   ]
  },
  {
   "cell_type": "code",
   "execution_count": 18,
   "id": "be638a55-8ab9-4442-bdf9-a537693de3c9",
   "metadata": {},
   "outputs": [],
   "source": [
    "# Check for dups\n",
    "\n",
    "dups = df.duplicated()"
   ]
  },
  {
   "cell_type": "code",
   "execution_count": 20,
   "id": "0894f9ca-6c5f-4e43-a87f-26171780f1f8",
   "metadata": {},
   "outputs": [
    {
     "data": {
      "text/plain": [
       "(9307,)"
      ]
     },
     "execution_count": 20,
     "metadata": {},
     "output_type": "execute_result"
    }
   ],
   "source": [
    "dups.shape"
   ]
  },
  {
   "cell_type": "markdown",
   "id": "b2e9ead0-bbd4-4c20-a56a-9a128b913bc5",
   "metadata": {},
   "source": [
    "no dups"
   ]
  },
  {
   "cell_type": "markdown",
   "id": "d77bc569-ba81-45ff-9fa4-833590e3652d",
   "metadata": {},
   "source": [
    "## Check for extreme values"
   ]
  },
  {
   "cell_type": "code",
   "execution_count": 27,
   "id": "c3a4d2d4-efeb-4669-9fac-7092d8d96052",
   "metadata": {},
   "outputs": [
    {
     "data": {
      "text/plain": [
       "<AxesSubplot:xlabel='price', ylabel='Count'>"
      ]
     },
     "execution_count": 27,
     "metadata": {},
     "output_type": "execute_result"
    },
    {
     "data": {
      "image/png": "[encoded data removed]",
      "text/plain": [
       "<Figure size 432x288 with 1 Axes>"
      ]
     },
     "metadata": {
      "needs_background": "light"
     },
     "output_type": "display_data"
    }
   ],
   "source": [
    "# Check for extreme values in price\n",
    "\n",
    "sns.histplot(df['price'], bins = 25, kde = True)"
   ]
  },
  {
   "cell_type": "code",
   "execution_count": 28,
   "id": "bb67f237-c26a-4865-969e-7adbb7a5c09e",
   "metadata": {},
   "outputs": [
    {
     "data": {
      "text/plain": [
       "588837.2057591061"
      ]
     },
     "execution_count": 28,
     "metadata": {},
     "output_type": "execute_result"
    }
   ],
   "source": [
    "# Check mean\n",
    "\n",
    "df['price'].mean()"
   ]
  },
  {
   "cell_type": "code",
   "execution_count": 29,
   "id": "5cc6a064-f434-4270-9b88-9aa0e3e37005",
   "metadata": {},
   "outputs": [
    {
     "data": {
      "text/plain": [
       "349900.0"
      ]
     },
     "execution_count": 29,
     "metadata": {},
     "output_type": "execute_result"
    }
   ],
   "source": [
    "# Check median\n",
    "\n",
    "df['price'].median()"
   ]
  },
  {
   "cell_type": "code",
   "execution_count": 30,
   "id": "08f1ecc3-fdd7-4a6c-becc-17b221412ac3",
   "metadata": {},
   "outputs": [
    {
     "data": {
      "text/plain": [
       "60000000"
      ]
     },
     "execution_count": 30,
     "metadata": {},
     "output_type": "execute_result"
    }
   ],
   "source": [
    "# Check max\n",
    "\n",
    "df['price'].max()"
   ]
  },
  {
   "cell_type": "markdown",
   "id": "145ec5e5-842d-43f9-a205-82f336007b9b",
   "metadata": {},
   "source": [
    "## We have an extreme outlier of 60,000,000 in the price. This could by a typo for 6,000,000 but i will leave it in the data for now because that price is possible."
   ]
  },
  {
   "cell_type": "code",
   "execution_count": 26,
   "id": "de9f91d5-c387-49ba-a5b5-533277b37718",
   "metadata": {
    "tags": []
   },
   "outputs": [
    {
     "data": {
      "text/plain": [
       "<AxesSubplot:xlabel='bed', ylabel='Count'>"
      ]
     },
     "execution_count": 26,
     "metadata": {},
     "output_type": "execute_result"
    },
    {
     "data": {
      "image/png": "[encoded data removed]",
      "text/plain": [
       "<Figure size 432x288 with 1 Axes>"
      ]
     },
     "metadata": {
      "needs_background": "light"
     },
     "output_type": "display_data"
    }
   ],
   "source": [
    "# Check for extreme values in bed\n",
    "\n",
    "sns.histplot(df['bed'], bins = 25, kde = True)"
   ]
  },
  {
   "cell_type": "code",
   "execution_count": 31,
   "id": "59191b5b-004f-4bd9-9f00-64b412cbf90a",
   "metadata": {},
   "outputs": [
    {
     "data": {
      "text/plain": [
       "3.7063500590953047"
      ]
     },
     "execution_count": 31,
     "metadata": {},
     "output_type": "execute_result"
    }
   ],
   "source": [
    "# Check mean\n",
    "\n",
    "df['bed'].mean()"
   ]
  },
  {
   "cell_type": "code",
   "execution_count": 33,
   "id": "028ea787-de0d-4a03-ab25-78e58d3c2a43",
   "metadata": {},
   "outputs": [
    {
     "data": {
      "text/plain": [
       "3.0"
      ]
     },
     "execution_count": 33,
     "metadata": {},
     "output_type": "execute_result"
    }
   ],
   "source": [
    "# Check median\n",
    "\n",
    "df['bed'].median()"
   ]
  },
  {
   "cell_type": "code",
   "execution_count": 34,
   "id": "49adf5e1-b36b-44be-a301-239c086cb5cf",
   "metadata": {},
   "outputs": [
    {
     "data": {
      "text/plain": [
       "9"
      ]
     },
     "execution_count": 34,
     "metadata": {},
     "output_type": "execute_result"
    }
   ],
   "source": [
    "# Check max\n",
    "\n",
    "df['bed'].max()"
   ]
  },
  {
   "cell_type": "markdown",
   "id": "c315d220-9360-47c4-9432-ca60df1c22a7",
   "metadata": {},
   "source": [
    "## No outliers will leave as is"
   ]
  },
  {
   "cell_type": "code",
   "execution_count": 25,
   "id": "b86786b4-58d0-42e3-924a-31da557ae7bc",
   "metadata": {},
   "outputs": [
    {
     "data": {
      "text/plain": [
       "<AxesSubplot:xlabel='bath', ylabel='Count'>"
      ]
     },
     "execution_count": 25,
     "metadata": {},
     "output_type": "execute_result"
    },
    {
     "data": {
      "image/png": "[encoded data removed]",
      "text/plain": [
       "<Figure size 432x288 with 1 Axes>"
      ]
     },
     "metadata": {
      "needs_background": "light"
     },
     "output_type": "display_data"
    }
   ],
   "source": [
    "# Check for extreme values in bath\n",
    "\n",
    "sns.histplot(df['bath'], bins = 25, kde = True)"
   ]
  },
  {
   "cell_type": "code",
   "execution_count": 35,
   "id": "f086c49b-947d-48f1-836e-92cfe9d0f203",
   "metadata": {},
   "outputs": [
    {
     "data": {
      "text/plain": [
       "2.5756957129042655"
      ]
     },
     "execution_count": 35,
     "metadata": {},
     "output_type": "execute_result"
    }
   ],
   "source": [
    "# Check mean\n",
    "\n",
    "df['bath'].mean()"
   ]
  },
  {
   "cell_type": "code",
   "execution_count": 36,
   "id": "7ec3a55c-6374-4a43-8482-72691d44e4a3",
   "metadata": {},
   "outputs": [
    {
     "data": {
      "text/plain": [
       "2.0"
      ]
     },
     "execution_count": 36,
     "metadata": {},
     "output_type": "execute_result"
    }
   ],
   "source": [
    "# Check median\n",
    "\n",
    "df['bath'].median()"
   ]
  },
  {
   "cell_type": "code",
   "execution_count": 37,
   "id": "76dda869-fb66-467d-a54c-4cedf6280223",
   "metadata": {},
   "outputs": [
    {
     "data": {
      "text/plain": [
       "9"
      ]
     },
     "execution_count": 37,
     "metadata": {},
     "output_type": "execute_result"
    }
   ],
   "source": [
    "# Check max\n",
    "\n",
    "df['bath'].max()"
   ]
  },
  {
   "cell_type": "markdown",
   "id": "e6fd59c5-b10b-4011-9222-2cd634108a48",
   "metadata": {},
   "source": [
    "## No outliers will leave data as is"
   ]
  },
  {
   "cell_type": "markdown",
   "id": "403b46c2-71f6-4ed1-86fc-7947309cf4fb",
   "metadata": {},
   "source": [
    "# Data prep for regression analysis"
   ]
  },
  {
   "cell_type": "code",
   "execution_count": 38,
   "id": "dcb4c80c-eff8-43da-8a32-d3a5261e45f1",
   "metadata": {},
   "outputs": [
    {
     "data": {
      "image/png": "[encoded data removed]",
      "text/plain": [
       "<Figure size 432x288 with 1 Axes>"
      ]
     },
     "metadata": {
      "needs_background": "light"
     },
     "output_type": "display_data"
    }
   ],
   "source": [
    "# Create scatterplot for price and bed\n",
    "\n",
    "df.plot(x = 'bed', y='price',style='o') # The style option creates a scatterplot\n",
    "plt.title('Number of Beds vs Price of House')  \n",
    "plt.xlabel('Bed')  \n",
    "plt.ylabel('Price')  \n",
    "plt.show()"
   ]
  },
  {
   "cell_type": "code",
   "execution_count": 39,
   "id": "d46f83e2-658e-4aa4-9e2e-0766fc4df288",
   "metadata": {},
   "outputs": [
    {
     "data": {
      "image/png": "[encoded data removed]",
      "text/plain": [
       "<Figure size 432x288 with 1 Axes>"
      ]
     },
     "metadata": {
      "needs_background": "light"
     },
     "output_type": "display_data"
    }
   ],
   "source": [
    "# Crete scatterplot for price and bath\n",
    "\n",
    "df.plot(x = 'bath', y='price',style='o')\n",
    "plt.title('Number of Baths vs Price of House')\n",
    "plt.xlabel('Bath')\n",
    "plt.ylabel('Price')\n",
    "plt.show()"
   ]
  },
  {
   "cell_type": "markdown",
   "id": "cf85bb3a-7685-4ba8-b930-f45690fa03ea",
   "metadata": {},
   "source": [
    "## Bed shows a little stronger correlation so we will use tht correlation for this task. "
   ]
  },
  {
   "cell_type": "code",
   "execution_count": 40,
   "id": "fff7cbe9-e2a3-41e5-a0fb-732d9ad327b2",
   "metadata": {},
   "outputs": [],
   "source": [
    "# Reshape variables in Numpys and put them into arrays\n",
    "\n",
    "X = df['bed'].values.reshape(-1,1)\n",
    "y = df['price'].values.reshape(-1,1)"
   ]
  },
  {
   "cell_type": "code",
   "execution_count": 41,
   "id": "22cfe86c-daea-43ca-ade1-e29c04b35790",
   "metadata": {},
   "outputs": [
    {
     "data": {
      "text/plain": [
       "array([[3],\n",
       "       [4],\n",
       "       [2],\n",
       "       ...,\n",
       "       [4],\n",
       "       [3],\n",
       "       [3]], dtype=int64)"
      ]
     },
     "execution_count": 41,
     "metadata": {},
     "output_type": "execute_result"
    }
   ],
   "source": [
    "X"
   ]
  },
  {
   "cell_type": "code",
   "execution_count": 42,
   "id": "6f808fe8-c1b4-435b-8aeb-c6c43dd9538f",
   "metadata": {},
   "outputs": [
    {
     "data": {
      "text/plain": [
       "array([[105000],\n",
       "       [ 80000],\n",
       "       [ 67000],\n",
       "       ...,\n",
       "       [785000],\n",
       "       [465000],\n",
       "       [399900]], dtype=int64)"
      ]
     },
     "execution_count": 42,
     "metadata": {},
     "output_type": "execute_result"
    }
   ],
   "source": [
    "y"
   ]
  },
  {
   "cell_type": "code",
   "execution_count": 43,
   "id": "3adc1024-d2dc-4762-8cfd-3aa86ff03c8e",
   "metadata": {},
   "outputs": [],
   "source": [
    "# Split data into training and test set\n",
    "\n",
    "X_train, X_test, y_train, y_test = train_test_split(X,y, test_size=0.3, random_state=0)"
   ]
  },
  {
   "cell_type": "code",
   "execution_count": 48,
   "id": "94b1c2e9-699c-4655-9d08-f473a9547320",
   "metadata": {},
   "outputs": [],
   "source": [
    "# Create regression object\n",
    "\n",
    "regression = LinearRegression()"
   ]
  },
  {
   "cell_type": "code",
   "execution_count": 49,
   "id": "898ca6af-d2a3-4f75-85e1-0047c6397029",
   "metadata": {},
   "outputs": [
    {
     "data": {
      "text/plain": [
       "LinearRegression()"
      ]
     },
     "execution_count": 49,
     "metadata": {},
     "output_type": "execute_result"
    }
   ],
   "source": [
    "# Fit to train set\n",
    "\n",
    "regression.fit(X_train, y_train)"
   ]
  },
  {
   "cell_type": "code",
   "execution_count": 50,
   "id": "bbcef895-ce5b-42ea-a4dd-bd2ab4c07e20",
   "metadata": {},
   "outputs": [],
   "source": [
    "# Predict values of y using X\n",
    "\n",
    "y_predicted = regression.predict(X_test)"
   ]
  },
  {
   "cell_type": "code",
   "execution_count": 51,
   "id": "69602a52-9fa1-4d42-afd3-11b169b6a686",
   "metadata": {},
   "outputs": [
    {
     "data": {
      "image/png": "[encoded data removed]",
      "text/plain": [
       "<Figure size 432x288 with 1 Axes>"
      ]
     },
     "metadata": {
      "needs_background": "light"
     },
     "output_type": "display_data"
    }
   ],
   "source": [
    "# Create plot that shows regression line from the model on the test set\n",
    "\n",
    "plot_test = plt\n",
    "plot_test.scatter(X_test, y_test, color='gray', s = 15)\n",
    "plot_test.plot(X_test, y_predicted, color='red', linewidth =3)\n",
    "plot_test.title('Number of Beds vs Price of House (Test set)')\n",
    "plot_test.xlabel('Beds')\n",
    "plot_test.ylabel('Price')\n",
    "plot_test.show()"
   ]
  },
  {
   "cell_type": "markdown",
   "id": "88a0efcb-a5a8-474c-a46e-efd0e630c470",
   "metadata": {},
   "source": [
    "## You can see the data is not close to fitting the model. There are a lot of outliers."
   ]
  },
  {
   "cell_type": "code",
   "execution_count": 53,
   "id": "73fa7b65-6056-4ab3-a85d-6db02aee092d",
   "metadata": {},
   "outputs": [],
   "source": [
    "# Create objects that contain  model summary statistics\n",
    "\n",
    "rmse = mean_squared_error(y_test,y_predicted)\n",
    "r2 = r2_score(y_test, y_predicted)"
   ]
  },
  {
   "cell_type": "code",
   "execution_count": 54,
   "id": "19b166c7-5469-4ef9-899e-5c6b04bfec8c",
   "metadata": {},
   "outputs": [
    {
     "name": "stdout",
     "output_type": "stream",
     "text": [
      "Slope: [[133814.95190716]]\n",
      "Mean squared error:  2101984705138.9146\n",
      "R2 score:  0.028246161512348156\n"
     ]
    }
   ],
   "source": [
    "# Print model sumaary statistics\n",
    "\n",
    "print('Slope:' ,regression.coef_)\n",
    "print('Mean squared error: ', rmse)\n",
    "print('R2 score: ', r2)"
   ]
  },
  {
   "cell_type": "code",
   "execution_count": 55,
   "id": "e007ac3f-5854-491a-b4be-7f3143fe60d9",
   "metadata": {},
   "outputs": [
    {
     "data": {
      "text/plain": [
       "array([[627244.50703066],\n",
       "       [493429.5551235 ],\n",
       "       [627244.50703066],\n",
       "       ...,\n",
       "       [493429.5551235 ],\n",
       "       [627244.50703066],\n",
       "       [493429.5551235 ]])"
      ]
     },
     "execution_count": 55,
     "metadata": {},
     "output_type": "execute_result"
    }
   ],
   "source": [
    "y_predicted"
   ]
  },
  {
   "cell_type": "code",
   "execution_count": 56,
   "id": "435f736d-e318-4d85-8b75-70386ef87632",
   "metadata": {},
   "outputs": [],
   "source": [
    "# Create dataframe of actual and predicted values\n",
    "\n",
    "data = pd.DataFrame({'Actual': y_test.flatten(), 'Predicted': y_predicted.flatten()}) "
   ]
  },
  {
   "cell_type": "code",
   "execution_count": 57,
   "id": "3b678a30-538e-43cc-a56f-53ab7bcb2807",
   "metadata": {},
   "outputs": [
    {
     "data": {
      "text/html": [
       "<div>\n",
       "<style scoped>\n",
       "    .dataframe tbody tr th:only-of-type {\n",
       "        vertical-align: middle;\n",
       "    }\n",
       "\n",
       "    .dataframe tbody tr th {\n",
       "        vertical-align: top;\n",
       "    }\n",
       "\n",
       "    .dataframe thead th {\n",
       "        text-align: right;\n",
       "    }\n",
       "</style>\n",
       "<table border=\"1\" class=\"dataframe\">\n",
       "  <thead>\n",
       "    <tr style=\"text-align: right;\">\n",
       "      <th></th>\n",
       "      <th>Actual</th>\n",
       "      <th>Predicted</th>\n",
       "    </tr>\n",
       "  </thead>\n",
       "  <tbody>\n",
       "    <tr>\n",
       "      <th>0</th>\n",
       "      <td>449500</td>\n",
       "      <td>6.272445e+05</td>\n",
       "    </tr>\n",
       "    <tr>\n",
       "      <th>1</th>\n",
       "      <td>384800</td>\n",
       "      <td>4.934296e+05</td>\n",
       "    </tr>\n",
       "    <tr>\n",
       "      <th>2</th>\n",
       "      <td>519900</td>\n",
       "      <td>6.272445e+05</td>\n",
       "    </tr>\n",
       "    <tr>\n",
       "      <th>3</th>\n",
       "      <td>235000</td>\n",
       "      <td>4.934296e+05</td>\n",
       "    </tr>\n",
       "    <tr>\n",
       "      <th>4</th>\n",
       "      <td>629000</td>\n",
       "      <td>6.272445e+05</td>\n",
       "    </tr>\n",
       "    <tr>\n",
       "      <th>5</th>\n",
       "      <td>115000</td>\n",
       "      <td>6.272445e+05</td>\n",
       "    </tr>\n",
       "    <tr>\n",
       "      <th>6</th>\n",
       "      <td>250000</td>\n",
       "      <td>8.948744e+05</td>\n",
       "    </tr>\n",
       "    <tr>\n",
       "      <th>7</th>\n",
       "      <td>132000</td>\n",
       "      <td>4.934296e+05</td>\n",
       "    </tr>\n",
       "    <tr>\n",
       "      <th>8</th>\n",
       "      <td>699000</td>\n",
       "      <td>6.272445e+05</td>\n",
       "    </tr>\n",
       "    <tr>\n",
       "      <th>9</th>\n",
       "      <td>249900</td>\n",
       "      <td>8.948744e+05</td>\n",
       "    </tr>\n",
       "    <tr>\n",
       "      <th>10</th>\n",
       "      <td>349900</td>\n",
       "      <td>4.934296e+05</td>\n",
       "    </tr>\n",
       "    <tr>\n",
       "      <th>11</th>\n",
       "      <td>300000</td>\n",
       "      <td>1.028689e+06</td>\n",
       "    </tr>\n",
       "    <tr>\n",
       "      <th>12</th>\n",
       "      <td>500000</td>\n",
       "      <td>7.610595e+05</td>\n",
       "    </tr>\n",
       "    <tr>\n",
       "      <th>13</th>\n",
       "      <td>589900</td>\n",
       "      <td>6.272445e+05</td>\n",
       "    </tr>\n",
       "    <tr>\n",
       "      <th>14</th>\n",
       "      <td>629000</td>\n",
       "      <td>4.934296e+05</td>\n",
       "    </tr>\n",
       "    <tr>\n",
       "      <th>15</th>\n",
       "      <td>429000</td>\n",
       "      <td>3.596146e+05</td>\n",
       "    </tr>\n",
       "    <tr>\n",
       "      <th>16</th>\n",
       "      <td>299900</td>\n",
       "      <td>8.948744e+05</td>\n",
       "    </tr>\n",
       "    <tr>\n",
       "      <th>17</th>\n",
       "      <td>200000</td>\n",
       "      <td>4.934296e+05</td>\n",
       "    </tr>\n",
       "    <tr>\n",
       "      <th>18</th>\n",
       "      <td>579900</td>\n",
       "      <td>1.028689e+06</td>\n",
       "    </tr>\n",
       "    <tr>\n",
       "      <th>19</th>\n",
       "      <td>199900</td>\n",
       "      <td>3.596146e+05</td>\n",
       "    </tr>\n",
       "  </tbody>\n",
       "</table>\n",
       "</div>"
      ],
      "text/plain": [
       "    Actual     Predicted\n",
       "0   449500  6.272445e+05\n",
       "1   384800  4.934296e+05\n",
       "2   519900  6.272445e+05\n",
       "3   235000  4.934296e+05\n",
       "4   629000  6.272445e+05\n",
       "5   115000  6.272445e+05\n",
       "6   250000  8.948744e+05\n",
       "7   132000  4.934296e+05\n",
       "8   699000  6.272445e+05\n",
       "9   249900  8.948744e+05\n",
       "10  349900  4.934296e+05\n",
       "11  300000  1.028689e+06\n",
       "12  500000  7.610595e+05\n",
       "13  589900  6.272445e+05\n",
       "14  629000  4.934296e+05\n",
       "15  429000  3.596146e+05\n",
       "16  299900  8.948744e+05\n",
       "17  200000  4.934296e+05\n",
       "18  579900  1.028689e+06\n",
       "19  199900  3.596146e+05"
      ]
     },
     "execution_count": 57,
     "metadata": {},
     "output_type": "execute_result"
    }
   ],
   "source": [
    "data.head(20)"
   ]
  },
  {
   "cell_type": "markdown",
   "id": "74767752-7a2f-41f1-a0b6-94043db2d589",
   "metadata": {},
   "source": [
    "## The model was not very accurate in predicting the price or showing a correlation. I think a lot of this has to do with the sample size of the data since it only contains information from 7 different states. Also, it impossible for one variabe alone to greatly influence the housing prices."
   ]
  },
  {
   "cell_type": "code",
   "execution_count": null,
   "id": "88c296e0-1d51-49e5-aa76-66741ec319da",
   "metadata": {},
   "outputs": [],
   "source": []
  }
 ],
 "metadata": {
  "kernelspec": {
   "display_name": "Python 3 (ipykernel)",
   "language": "python",
   "name": "python3"
  },
  "language_info": {
   "codemirror_mode": {
    "name": "ipython",
    "version": 3
   },
   "file_extension": ".py",
   "mimetype": "text/x-python",
   "name": "python",
   "nbconvert_exporter": "python",
   "pygments_lexer": "ipython3",
   "version": "3.9.7"
  }
 },
 "nbformat": 4,
 "nbformat_minor": 5
}
