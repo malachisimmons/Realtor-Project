{
 "cells": [
  {
   "cell_type": "markdown",
   "id": "a40fcc05-5de4-4cbb-bc5a-4af960bb7e39",
   "metadata": {},
   "source": [
    "# 6.5 Unsupervised Machine Learning: Clustering"
   ]
  },
  {
   "cell_type": "markdown",
   "id": "96ab229c-773e-459c-ae56-af8a0a1ab075",
   "metadata": {},
   "source": [
    "## Imports"
   ]
  },
  {
   "cell_type": "code",
   "execution_count": 2,
   "id": "81e426bd-cf2a-4770-a4f2-7f37f23dfb92",
   "metadata": {},
   "outputs": [],
   "source": [
    "# Importing Libraries\n",
    "import pandas as pd\n",
    "import numpy as np\n",
    "import seaborn as sns\n",
    "import matplotlib\n",
    "import matplotlib.pyplot as plt\n",
    "import os\n",
    "import sklearn\n",
    "from sklearn.cluster import KMeans # Here is where you import the k-means algorithm from scikit-learn.\n",
    "import pylab as pl # PyLab is a convenience module that bulk imports matplotlib."
   ]
  },
  {
   "cell_type": "code",
   "execution_count": 3,
   "id": "56fe9615-518d-4ee8-bb9a-10fca4396243",
   "metadata": {},
   "outputs": [],
   "source": [
    "# This option ensures the graphs you create are displayed in your notebook without the need to \"call\" them specifically.\n",
    "\n",
    "%matplotlib inline"
   ]
  },
  {
   "cell_type": "code",
   "execution_count": 4,
   "id": "97cb6523-3478-485b-aa1e-910a21ffb578",
   "metadata": {},
   "outputs": [],
   "source": [
    "path = r'C:\\Users\\malac\\Downloads\\Realtor.com cf'"
   ]
  },
  {
   "cell_type": "code",
   "execution_count": 5,
   "id": "315af6c1-f2d3-438c-b42f-5cc1e2ad41cf",
   "metadata": {},
   "outputs": [
    {
     "data": {
      "text/plain": [
       "'C:\\\\Users\\\\malac\\\\Downloads\\\\Realtor.com cf'"
      ]
     },
     "execution_count": 5,
     "metadata": {},
     "output_type": "execute_result"
    }
   ],
   "source": [
    "path"
   ]
  },
  {
   "cell_type": "code",
   "execution_count": 6,
   "id": "e9851374-4e8e-44a2-a6f8-ebd70e2f4bb9",
   "metadata": {},
   "outputs": [],
   "source": [
    "df = pd.read_pickle(os.path.join(path, '03 Scripts', 'realtor-dataset-100k.pkl'))"
   ]
  },
  {
   "cell_type": "code",
   "execution_count": 7,
   "id": "11e8514a-897d-4d90-91f8-f7e16b7e6b7e",
   "metadata": {},
   "outputs": [
    {
     "data": {
      "text/html": [
       "<div>\n",
       "<style scoped>\n",
       "    .dataframe tbody tr th:only-of-type {\n",
       "        vertical-align: middle;\n",
       "    }\n",
       "\n",
       "    .dataframe tbody tr th {\n",
       "        vertical-align: top;\n",
       "    }\n",
       "\n",
       "    .dataframe thead th {\n",
       "        text-align: right;\n",
       "    }\n",
       "</style>\n",
       "<table border=\"1\" class=\"dataframe\">\n",
       "  <thead>\n",
       "    <tr style=\"text-align: right;\">\n",
       "      <th></th>\n",
       "      <th>status</th>\n",
       "      <th>price</th>\n",
       "      <th>bed</th>\n",
       "      <th>bath</th>\n",
       "      <th>acre_lot</th>\n",
       "      <th>city</th>\n",
       "      <th>state</th>\n",
       "      <th>house_size</th>\n",
       "      <th>sold_date</th>\n",
       "    </tr>\n",
       "  </thead>\n",
       "  <tbody>\n",
       "    <tr>\n",
       "      <th>0</th>\n",
       "      <td>for_sale</td>\n",
       "      <td>105000</td>\n",
       "      <td>3</td>\n",
       "      <td>2</td>\n",
       "      <td>0</td>\n",
       "      <td>Adjuntas</td>\n",
       "      <td>Puerto Rico</td>\n",
       "      <td>920</td>\n",
       "      <td>0</td>\n",
       "    </tr>\n",
       "    <tr>\n",
       "      <th>1</th>\n",
       "      <td>for_sale</td>\n",
       "      <td>80000</td>\n",
       "      <td>4</td>\n",
       "      <td>2</td>\n",
       "      <td>0</td>\n",
       "      <td>Adjuntas</td>\n",
       "      <td>Puerto Rico</td>\n",
       "      <td>1527</td>\n",
       "      <td>0</td>\n",
       "    </tr>\n",
       "    <tr>\n",
       "      <th>2</th>\n",
       "      <td>for_sale</td>\n",
       "      <td>67000</td>\n",
       "      <td>2</td>\n",
       "      <td>1</td>\n",
       "      <td>0</td>\n",
       "      <td>Juana Diaz</td>\n",
       "      <td>Puerto Rico</td>\n",
       "      <td>748</td>\n",
       "      <td>0</td>\n",
       "    </tr>\n",
       "    <tr>\n",
       "      <th>3</th>\n",
       "      <td>for_sale</td>\n",
       "      <td>145000</td>\n",
       "      <td>4</td>\n",
       "      <td>2</td>\n",
       "      <td>0</td>\n",
       "      <td>Ponce</td>\n",
       "      <td>Puerto Rico</td>\n",
       "      <td>1800</td>\n",
       "      <td>0</td>\n",
       "    </tr>\n",
       "    <tr>\n",
       "      <th>5</th>\n",
       "      <td>for_sale</td>\n",
       "      <td>179000</td>\n",
       "      <td>4</td>\n",
       "      <td>3</td>\n",
       "      <td>0</td>\n",
       "      <td>San Sebastian</td>\n",
       "      <td>Puerto Rico</td>\n",
       "      <td>2520</td>\n",
       "      <td>0</td>\n",
       "    </tr>\n",
       "  </tbody>\n",
       "</table>\n",
       "</div>"
      ],
      "text/plain": [
       "     status   price  bed  bath  acre_lot           city        state  \\\n",
       "0  for_sale  105000    3     2         0       Adjuntas  Puerto Rico   \n",
       "1  for_sale   80000    4     2         0       Adjuntas  Puerto Rico   \n",
       "2  for_sale   67000    2     1         0     Juana Diaz  Puerto Rico   \n",
       "3  for_sale  145000    4     2         0          Ponce  Puerto Rico   \n",
       "5  for_sale  179000    4     3         0  San Sebastian  Puerto Rico   \n",
       "\n",
       "   house_size sold_date  \n",
       "0         920         0  \n",
       "1        1527         0  \n",
       "2         748         0  \n",
       "3        1800         0  \n",
       "5        2520         0  "
      ]
     },
     "execution_count": 7,
     "metadata": {},
     "output_type": "execute_result"
    }
   ],
   "source": [
    "df.head()"
   ]
  },
  {
   "cell_type": "markdown",
   "id": "b9657abb-fa6b-48c5-bf22-ebaeec8f755c",
   "metadata": {},
   "source": [
    "# Data Cleaning"
   ]
  },
  {
   "cell_type": "code",
   "execution_count": 8,
   "id": "1e7a3bbd-5216-45a6-af7f-cafc5352939a",
   "metadata": {},
   "outputs": [
    {
     "data": {
      "text/plain": [
       "Index(['status', 'price', 'bed', 'bath', 'acre_lot', 'city', 'state',\n",
       "       'house_size', 'sold_date'],\n",
       "      dtype='object')"
      ]
     },
     "execution_count": 8,
     "metadata": {},
     "output_type": "execute_result"
    }
   ],
   "source": [
    "df.columns"
   ]
  },
  {
   "cell_type": "markdown",
   "id": "7247c692-2137-4d52-b83f-092665e9c961",
   "metadata": {},
   "source": [
    "## I need to drop sold date and status from my analysis of this step. I will do so in a new data frame"
   ]
  },
  {
   "cell_type": "code",
   "execution_count": 9,
   "id": "d6190426-5db8-47ec-a21c-4a1ed836d8b0",
   "metadata": {},
   "outputs": [],
   "source": [
    "df_2 = df.drop(['status', 'sold_date', 'city', 'state',], axis=1)"
   ]
  },
  {
   "cell_type": "code",
   "execution_count": 10,
   "id": "7209a25e-8204-4b87-9f2e-0b7359720881",
   "metadata": {},
   "outputs": [
    {
     "data": {
      "text/html": [
       "<div>\n",
       "<style scoped>\n",
       "    .dataframe tbody tr th:only-of-type {\n",
       "        vertical-align: middle;\n",
       "    }\n",
       "\n",
       "    .dataframe tbody tr th {\n",
       "        vertical-align: top;\n",
       "    }\n",
       "\n",
       "    .dataframe thead th {\n",
       "        text-align: right;\n",
       "    }\n",
       "</style>\n",
       "<table border=\"1\" class=\"dataframe\">\n",
       "  <thead>\n",
       "    <tr style=\"text-align: right;\">\n",
       "      <th></th>\n",
       "      <th>price</th>\n",
       "      <th>bed</th>\n",
       "      <th>bath</th>\n",
       "      <th>acre_lot</th>\n",
       "      <th>house_size</th>\n",
       "    </tr>\n",
       "  </thead>\n",
       "  <tbody>\n",
       "    <tr>\n",
       "      <th>0</th>\n",
       "      <td>105000</td>\n",
       "      <td>3</td>\n",
       "      <td>2</td>\n",
       "      <td>0</td>\n",
       "      <td>920</td>\n",
       "    </tr>\n",
       "    <tr>\n",
       "      <th>1</th>\n",
       "      <td>80000</td>\n",
       "      <td>4</td>\n",
       "      <td>2</td>\n",
       "      <td>0</td>\n",
       "      <td>1527</td>\n",
       "    </tr>\n",
       "    <tr>\n",
       "      <th>2</th>\n",
       "      <td>67000</td>\n",
       "      <td>2</td>\n",
       "      <td>1</td>\n",
       "      <td>0</td>\n",
       "      <td>748</td>\n",
       "    </tr>\n",
       "    <tr>\n",
       "      <th>3</th>\n",
       "      <td>145000</td>\n",
       "      <td>4</td>\n",
       "      <td>2</td>\n",
       "      <td>0</td>\n",
       "      <td>1800</td>\n",
       "    </tr>\n",
       "    <tr>\n",
       "      <th>5</th>\n",
       "      <td>179000</td>\n",
       "      <td>4</td>\n",
       "      <td>3</td>\n",
       "      <td>0</td>\n",
       "      <td>2520</td>\n",
       "    </tr>\n",
       "  </tbody>\n",
       "</table>\n",
       "</div>"
      ],
      "text/plain": [
       "    price  bed  bath  acre_lot  house_size\n",
       "0  105000    3     2         0         920\n",
       "1   80000    4     2         0        1527\n",
       "2   67000    2     1         0         748\n",
       "3  145000    4     2         0        1800\n",
       "5  179000    4     3         0        2520"
      ]
     },
     "execution_count": 10,
     "metadata": {},
     "output_type": "execute_result"
    }
   ],
   "source": [
    "df_2.head()"
   ]
  },
  {
   "cell_type": "markdown",
   "id": "2f622338-358a-4475-a8cd-76cb88f2eb81",
   "metadata": {},
   "source": [
    "# The elbow technique"
   ]
  },
  {
   "cell_type": "code",
   "execution_count": 11,
   "id": "5f2b10a1-934a-4303-992d-4279d88052a8",
   "metadata": {},
   "outputs": [],
   "source": [
    "# Define range for potential clusters \n",
    "\n",
    "num_cl = range(1, 10)\n",
    "kmeans = [KMeans(n_clusters=i) for i in num_cl]"
   ]
  },
  {
   "cell_type": "code",
   "execution_count": 12,
   "id": "de6d9d35-0cc4-444b-b8d5-530681d3f496",
   "metadata": {},
   "outputs": [],
   "source": [
    "# Create algo\n",
    "\n",
    "score = [kmeans[i].fit(df_2).score(df_2) for i in range(len(kmeans))]"
   ]
  },
  {
   "cell_type": "code",
   "execution_count": 13,
   "id": "f27563f8-e830-4fb3-b6ba-64f769292953",
   "metadata": {},
   "outputs": [
    {
     "data": {
      "text/plain": [
       "[-1.4319084489576326e+16,\n",
       " -6509852049780424.0,\n",
       " -3983908297212780.0,\n",
       " -1958002918354436.5,\n",
       " -1183020436868235.8,\n",
       " -745886102373690.4,\n",
       " -533625905994730.06,\n",
       " -387256460679513.9,\n",
       " -316729967587491.25]"
      ]
     },
     "execution_count": 13,
     "metadata": {},
     "output_type": "execute_result"
    }
   ],
   "source": [
    "score"
   ]
  },
  {
   "cell_type": "code",
   "execution_count": 14,
   "id": "408b264d-6063-46d9-9352-f58469e8a999",
   "metadata": {},
   "outputs": [
    {
     "data": {
      "image/png": "[encoded data removed]",
      "text/plain": [
       "<Figure size 432x288 with 1 Axes>"
      ]
     },
     "metadata": {
      "needs_background": "light"
     },
     "output_type": "display_data"
    }
   ],
   "source": [
    "# Plot elbow curve\n",
    "\n",
    "pl.plot(num_cl,score)\n",
    "pl.xlabel('Number of Clusters')\n",
    "pl.ylabel('Score')\n",
    "pl.title('Elbow Curve')\n",
    "pl.show()"
   ]
  },
  {
   "cell_type": "code",
   "execution_count": 15,
   "id": "9b416ba1-b6a0-457a-9c02-a9758f7f0569",
   "metadata": {},
   "outputs": [],
   "source": [
    "# Create kmeans object\n",
    "\n",
    "kmeans = KMeans(n_clusters = 4, n_jobs = -1)"
   ]
  },
  {
   "cell_type": "markdown",
   "id": "87015af2-bfea-4742-b9d4-7e4deaa02433",
   "metadata": {},
   "source": [
    "## I used 4for the number of clusters in my kmeans algorithim because tht is were the graph starts to flatten out."
   ]
  },
  {
   "cell_type": "code",
   "execution_count": 16,
   "id": "077b2230-e263-4084-b1ff-a89d33aa249a",
   "metadata": {},
   "outputs": [
    {
     "name": "stderr",
     "output_type": "stream",
     "text": [
      "C:\\Users\\malac\\anaconda3\\lib\\site-packages\\sklearn\\cluster\\_kmeans.py:792: FutureWarning: 'n_jobs' was deprecated in version 0.23 and will be removed in 1.0 (renaming of 0.25).\n",
      "  warnings.warn(\"'n_jobs' was deprecated in version 0.23 and will be\"\n"
     ]
    },
    {
     "data": {
      "text/plain": [
       "KMeans(n_clusters=4, n_jobs=-1)"
      ]
     },
     "execution_count": 16,
     "metadata": {},
     "output_type": "execute_result"
    }
   ],
   "source": [
    "# Fit kmeans object to data and run algo\n",
    "\n",
    "kmeans.fit(df_2)"
   ]
  },
  {
   "cell_type": "code",
   "execution_count": 17,
   "id": "e7797a07-ac16-40a2-ad03-0d68c6b9de33",
   "metadata": {},
   "outputs": [
    {
     "name": "stderr",
     "output_type": "stream",
     "text": [
      "C:\\Users\\malac\\anaconda3\\lib\\site-packages\\sklearn\\cluster\\_kmeans.py:792: FutureWarning: 'n_jobs' was deprecated in version 0.23 and will be removed in 1.0 (renaming of 0.25).\n",
      "  warnings.warn(\"'n_jobs' was deprecated in version 0.23 and will be\"\n"
     ]
    }
   ],
   "source": [
    "# Create clusters column in df\n",
    "\n",
    "df['clusters'] = kmeans.fit_predict(df_2)"
   ]
  },
  {
   "cell_type": "code",
   "execution_count": 18,
   "id": "79e2fcc5-c5ee-45f0-8bef-2b3863a6226b",
   "metadata": {},
   "outputs": [
    {
     "data": {
      "text/html": [
       "<div>\n",
       "<style scoped>\n",
       "    .dataframe tbody tr th:only-of-type {\n",
       "        vertical-align: middle;\n",
       "    }\n",
       "\n",
       "    .dataframe tbody tr th {\n",
       "        vertical-align: top;\n",
       "    }\n",
       "\n",
       "    .dataframe thead th {\n",
       "        text-align: right;\n",
       "    }\n",
       "</style>\n",
       "<table border=\"1\" class=\"dataframe\">\n",
       "  <thead>\n",
       "    <tr style=\"text-align: right;\">\n",
       "      <th></th>\n",
       "      <th>status</th>\n",
       "      <th>price</th>\n",
       "      <th>bed</th>\n",
       "      <th>bath</th>\n",
       "      <th>acre_lot</th>\n",
       "      <th>city</th>\n",
       "      <th>state</th>\n",
       "      <th>house_size</th>\n",
       "      <th>sold_date</th>\n",
       "      <th>clusters</th>\n",
       "    </tr>\n",
       "  </thead>\n",
       "  <tbody>\n",
       "    <tr>\n",
       "      <th>0</th>\n",
       "      <td>for_sale</td>\n",
       "      <td>105000</td>\n",
       "      <td>3</td>\n",
       "      <td>2</td>\n",
       "      <td>0</td>\n",
       "      <td>Adjuntas</td>\n",
       "      <td>Puerto Rico</td>\n",
       "      <td>920</td>\n",
       "      <td>0</td>\n",
       "      <td>0</td>\n",
       "    </tr>\n",
       "    <tr>\n",
       "      <th>1</th>\n",
       "      <td>for_sale</td>\n",
       "      <td>80000</td>\n",
       "      <td>4</td>\n",
       "      <td>2</td>\n",
       "      <td>0</td>\n",
       "      <td>Adjuntas</td>\n",
       "      <td>Puerto Rico</td>\n",
       "      <td>1527</td>\n",
       "      <td>0</td>\n",
       "      <td>0</td>\n",
       "    </tr>\n",
       "    <tr>\n",
       "      <th>2</th>\n",
       "      <td>for_sale</td>\n",
       "      <td>67000</td>\n",
       "      <td>2</td>\n",
       "      <td>1</td>\n",
       "      <td>0</td>\n",
       "      <td>Juana Diaz</td>\n",
       "      <td>Puerto Rico</td>\n",
       "      <td>748</td>\n",
       "      <td>0</td>\n",
       "      <td>0</td>\n",
       "    </tr>\n",
       "    <tr>\n",
       "      <th>3</th>\n",
       "      <td>for_sale</td>\n",
       "      <td>145000</td>\n",
       "      <td>4</td>\n",
       "      <td>2</td>\n",
       "      <td>0</td>\n",
       "      <td>Ponce</td>\n",
       "      <td>Puerto Rico</td>\n",
       "      <td>1800</td>\n",
       "      <td>0</td>\n",
       "      <td>0</td>\n",
       "    </tr>\n",
       "    <tr>\n",
       "      <th>5</th>\n",
       "      <td>for_sale</td>\n",
       "      <td>179000</td>\n",
       "      <td>4</td>\n",
       "      <td>3</td>\n",
       "      <td>0</td>\n",
       "      <td>San Sebastian</td>\n",
       "      <td>Puerto Rico</td>\n",
       "      <td>2520</td>\n",
       "      <td>0</td>\n",
       "      <td>0</td>\n",
       "    </tr>\n",
       "  </tbody>\n",
       "</table>\n",
       "</div>"
      ],
      "text/plain": [
       "     status   price  bed  bath  acre_lot           city        state  \\\n",
       "0  for_sale  105000    3     2         0       Adjuntas  Puerto Rico   \n",
       "1  for_sale   80000    4     2         0       Adjuntas  Puerto Rico   \n",
       "2  for_sale   67000    2     1         0     Juana Diaz  Puerto Rico   \n",
       "3  for_sale  145000    4     2         0          Ponce  Puerto Rico   \n",
       "5  for_sale  179000    4     3         0  San Sebastian  Puerto Rico   \n",
       "\n",
       "   house_size sold_date  clusters  \n",
       "0         920         0         0  \n",
       "1        1527         0         0  \n",
       "2         748         0         0  \n",
       "3        1800         0         0  \n",
       "5        2520         0         0  "
      ]
     },
     "execution_count": 18,
     "metadata": {},
     "output_type": "execute_result"
    }
   ],
   "source": [
    "df.head()"
   ]
  },
  {
   "cell_type": "code",
   "execution_count": 19,
   "id": "68889e2d-d5ab-4878-8d78-008c36e5d16d",
   "metadata": {},
   "outputs": [
    {
     "data": {
      "text/plain": [
       "0    8862\n",
       "3     387\n",
       "1      57\n",
       "2       1\n",
       "Name: clusters, dtype: int64"
      ]
     },
     "execution_count": 19,
     "metadata": {},
     "output_type": "execute_result"
    }
   ],
   "source": [
    "# Check values of clusters\n",
    "\n",
    "df['clusters'].value_counts()"
   ]
  },
  {
   "cell_type": "markdown",
   "id": "05aaa8b8-fc10-4e96-a5b6-a857fdc3346d",
   "metadata": {},
   "source": [
    "# Visualizations"
   ]
  },
  {
   "cell_type": "code",
   "execution_count": 20,
   "id": "584c5f3c-9ca1-457a-8807-96984aaebec8",
   "metadata": {},
   "outputs": [
    {
     "data": {
      "image/png": "[encoded data removed]",
      "text/plain": [
       "<Figure size 864x576 with 1 Axes>"
      ]
     },
     "metadata": {
      "needs_background": "light"
     },
     "output_type": "display_data"
    }
   ],
   "source": [
    "# Plot clusters for beds and price\n",
    "\n",
    "plt.figure(figsize=(12,8))\n",
    "ax = sns.scatterplot(x=df['bed'], y=df['price'], hue=kmeans.labels_, s=100) \n",
    "ax.grid(False)\n",
    "plt.xlabel('Number of Beds')\n",
    "plt.ylabel('Price of House')\n",
    "plt.show()"
   ]
  },
  {
   "cell_type": "markdown",
   "id": "91a68869-6d45-4510-a22c-8030eddee3a2",
   "metadata": {},
   "source": [
    "There seem to be more darker colored clusters, the higher the number of bedrooms. 4, 5, and 6 bedrooms seem to have to most expensive houses expect for the outlier in number 9."
   ]
  },
  {
   "cell_type": "code",
   "execution_count": 21,
   "id": "49180ef6-52d3-4cd2-8854-df6119b022be",
   "metadata": {},
   "outputs": [
    {
     "data": {
      "image/png": "[encoded data removed]",
      "text/plain": [
       "<Figure size 864x576 with 1 Axes>"
      ]
     },
     "metadata": {
      "needs_background": "light"
     },
     "output_type": "display_data"
    }
   ],
   "source": [
    "# Plot clusters for baths and price\n",
    "\n",
    "plt.figure(figsize=(12,8))\n",
    "ax = sns.scatterplot(x=df['bath'], y=df['price'], hue=kmeans.labels_, s=100) \n",
    "ax.grid(False)\n",
    "plt.xlabel('Number of Baths')\n",
    "plt.ylabel('Price of House')\n",
    "plt.show()"
   ]
  },
  {
   "cell_type": "markdown",
   "id": "1f096ec2-96fe-46f0-a5ec-a5612826c960",
   "metadata": {},
   "source": [
    "There are more darker clusters the more the number of bathrooms increase. This shows a slight correlation between price and bathrooms."
   ]
  },
  {
   "cell_type": "code",
   "execution_count": 22,
   "id": "74668b65-7ecb-46eb-8bf1-e5a5f11194ee",
   "metadata": {},
   "outputs": [
    {
     "data": {
      "image/png": "[encoded data removed]",
      "text/plain": [
       "<Figure size 864x576 with 1 Axes>"
      ]
     },
     "metadata": {
      "needs_background": "light"
     },
     "output_type": "display_data"
    }
   ],
   "source": [
    "# Plot clusters for beds and price\n",
    "\n",
    "plt.figure(figsize=(12,8))\n",
    "ax = sns.scatterplot(x=df['house_size'], y=df['price'], hue=kmeans.labels_, s=100) \n",
    "ax.grid(False)\n",
    "plt.xlabel('House Size')\n",
    "plt.ylabel('Price of House')\n",
    "plt.show()"
   ]
  },
  {
   "cell_type": "markdown",
   "id": "65bde2fd-43ec-4a9f-ad5b-c8dee251818d",
   "metadata": {},
   "source": [
    "The only house in a black cluster is an oultier at the top. However, the graph does not show much correlation between house_size and price. "
   ]
  },
  {
   "cell_type": "code",
   "execution_count": 23,
   "id": "a2be637f-c134-43c1-a66e-ca1e8c63af59",
   "metadata": {
    "tags": []
   },
   "outputs": [],
   "source": [
    "# Relabel clusters from numbers to color name\n",
    "\n",
    "df.loc[df['clusters'] == 3, 'cluster'] = 'black'\n",
    "df.loc[df['clusters'] == 2, 'cluster'] = 'purple'\n",
    "df.loc[df['clusters'] == 1, 'cluster'] = 'light pink'\n",
    "df.loc[df['clusters'] == 0, 'cluster'] = 'tan'"
   ]
  },
  {
   "cell_type": "code",
   "execution_count": 24,
   "id": "240c0084-1e10-4df0-ab0b-8134c43f8da1",
   "metadata": {},
   "outputs": [
    {
     "data": {
      "text/html": [
       "<div>\n",
       "<style scoped>\n",
       "    .dataframe tbody tr th:only-of-type {\n",
       "        vertical-align: middle;\n",
       "    }\n",
       "\n",
       "    .dataframe tbody tr th {\n",
       "        vertical-align: top;\n",
       "    }\n",
       "\n",
       "    .dataframe thead tr th {\n",
       "        text-align: left;\n",
       "    }\n",
       "\n",
       "    .dataframe thead tr:last-of-type th {\n",
       "        text-align: right;\n",
       "    }\n",
       "</style>\n",
       "<table border=\"1\" class=\"dataframe\">\n",
       "  <thead>\n",
       "    <tr>\n",
       "      <th></th>\n",
       "      <th colspan=\"2\" halign=\"left\">price</th>\n",
       "      <th colspan=\"2\" halign=\"left\">bed</th>\n",
       "      <th colspan=\"2\" halign=\"left\">bath</th>\n",
       "      <th colspan=\"2\" halign=\"left\">acre_lot</th>\n",
       "      <th colspan=\"2\" halign=\"left\">house_size</th>\n",
       "    </tr>\n",
       "    <tr>\n",
       "      <th></th>\n",
       "      <th>mean</th>\n",
       "      <th>median</th>\n",
       "      <th>mean</th>\n",
       "      <th>median</th>\n",
       "      <th>mean</th>\n",
       "      <th>median</th>\n",
       "      <th>mean</th>\n",
       "      <th>median</th>\n",
       "      <th>mean</th>\n",
       "      <th>median</th>\n",
       "    </tr>\n",
       "    <tr>\n",
       "      <th>cluster</th>\n",
       "      <th></th>\n",
       "      <th></th>\n",
       "      <th></th>\n",
       "      <th></th>\n",
       "      <th></th>\n",
       "      <th></th>\n",
       "      <th></th>\n",
       "      <th></th>\n",
       "      <th></th>\n",
       "      <th></th>\n",
       "    </tr>\n",
       "  </thead>\n",
       "  <tbody>\n",
       "    <tr>\n",
       "      <th>black</th>\n",
       "      <td>2.893935e+06</td>\n",
       "      <td>2500000.0</td>\n",
       "      <td>4.640827</td>\n",
       "      <td>4.0</td>\n",
       "      <td>4.899225</td>\n",
       "      <td>5.0</td>\n",
       "      <td>18.532300</td>\n",
       "      <td>1.0</td>\n",
       "      <td>5801.485788</td>\n",
       "      <td>5000.0</td>\n",
       "    </tr>\n",
       "    <tr>\n",
       "      <th>light pink</th>\n",
       "      <td>1.126783e+07</td>\n",
       "      <td>9995000.0</td>\n",
       "      <td>5.087719</td>\n",
       "      <td>5.0</td>\n",
       "      <td>5.649123</td>\n",
       "      <td>6.0</td>\n",
       "      <td>59.000000</td>\n",
       "      <td>1.0</td>\n",
       "      <td>35908.070175</td>\n",
       "      <td>8224.0</td>\n",
       "    </tr>\n",
       "    <tr>\n",
       "      <th>purple</th>\n",
       "      <td>6.000000e+07</td>\n",
       "      <td>60000000.0</td>\n",
       "      <td>9.000000</td>\n",
       "      <td>9.0</td>\n",
       "      <td>1.000000</td>\n",
       "      <td>1.0</td>\n",
       "      <td>400.000000</td>\n",
       "      <td>400.0</td>\n",
       "      <td>18777.000000</td>\n",
       "      <td>18777.0</td>\n",
       "    </tr>\n",
       "    <tr>\n",
       "      <th>tan</th>\n",
       "      <td>4.127836e+05</td>\n",
       "      <td>339900.0</td>\n",
       "      <td>3.656060</td>\n",
       "      <td>3.0</td>\n",
       "      <td>2.454638</td>\n",
       "      <td>2.0</td>\n",
       "      <td>16.167795</td>\n",
       "      <td>0.0</td>\n",
       "      <td>2168.047732</td>\n",
       "      <td>1800.0</td>\n",
       "    </tr>\n",
       "  </tbody>\n",
       "</table>\n",
       "</div>"
      ],
      "text/plain": [
       "                   price                   bed             bath         \\\n",
       "                    mean      median      mean median      mean median   \n",
       "cluster                                                                  \n",
       "black       2.893935e+06   2500000.0  4.640827    4.0  4.899225    5.0   \n",
       "light pink  1.126783e+07   9995000.0  5.087719    5.0  5.649123    6.0   \n",
       "purple      6.000000e+07  60000000.0  9.000000    9.0  1.000000    1.0   \n",
       "tan         4.127836e+05    339900.0  3.656060    3.0  2.454638    2.0   \n",
       "\n",
       "              acre_lot           house_size           \n",
       "                  mean median          mean   median  \n",
       "cluster                                               \n",
       "black        18.532300    1.0   5801.485788   5000.0  \n",
       "light pink   59.000000    1.0  35908.070175   8224.0  \n",
       "purple      400.000000  400.0  18777.000000  18777.0  \n",
       "tan          16.167795    0.0   2168.047732   1800.0  "
      ]
     },
     "execution_count": 24,
     "metadata": {},
     "output_type": "execute_result"
    }
   ],
   "source": [
    "# Use groupby to calc descriptive stats of each cluster\n",
    "\n",
    "df.groupby('cluster').agg({'price':['mean', 'median'],\n",
    "                           'bed':['mean', 'median'],\n",
    "                           'bath':['mean', 'median'],\n",
    "                           'acre_lot':['mean', 'median'],\n",
    "                           'house_size':['mean', 'median']})"
   ]
  },
  {
   "cell_type": "markdown",
   "id": "89bcdc52-dbec-402b-b7e3-399df7ff823a",
   "metadata": {},
   "source": [
    "## According to the statistics, the black cluster is highest in all the catergories except for bathrooms. Each catergory is in order for most expensive and biggest houses, to cheapest. This shows that the bigger the houseand the more rooms it has, the higher the price of the house. "
   ]
  },
  {
   "cell_type": "code",
   "execution_count": 25,
   "id": "811feaee-1d02-403c-9585-3ddc71fe3611",
   "metadata": {},
   "outputs": [
    {
     "data": {
      "text/html": [
       "<div>\n",
       "<style scoped>\n",
       "    .dataframe tbody tr th:only-of-type {\n",
       "        vertical-align: middle;\n",
       "    }\n",
       "\n",
       "    .dataframe tbody tr th {\n",
       "        vertical-align: top;\n",
       "    }\n",
       "\n",
       "    .dataframe thead th {\n",
       "        text-align: right;\n",
       "    }\n",
       "</style>\n",
       "<table border=\"1\" class=\"dataframe\">\n",
       "  <thead>\n",
       "    <tr style=\"text-align: right;\">\n",
       "      <th></th>\n",
       "      <th>status</th>\n",
       "      <th>price</th>\n",
       "      <th>bed</th>\n",
       "      <th>bath</th>\n",
       "      <th>acre_lot</th>\n",
       "      <th>city</th>\n",
       "      <th>state</th>\n",
       "      <th>house_size</th>\n",
       "      <th>sold_date</th>\n",
       "      <th>clusters</th>\n",
       "      <th>cluster</th>\n",
       "    </tr>\n",
       "  </thead>\n",
       "  <tbody>\n",
       "    <tr>\n",
       "      <th>0</th>\n",
       "      <td>for_sale</td>\n",
       "      <td>105000</td>\n",
       "      <td>3</td>\n",
       "      <td>2</td>\n",
       "      <td>0</td>\n",
       "      <td>Adjuntas</td>\n",
       "      <td>Puerto Rico</td>\n",
       "      <td>920</td>\n",
       "      <td>0</td>\n",
       "      <td>0</td>\n",
       "      <td>tan</td>\n",
       "    </tr>\n",
       "    <tr>\n",
       "      <th>1</th>\n",
       "      <td>for_sale</td>\n",
       "      <td>80000</td>\n",
       "      <td>4</td>\n",
       "      <td>2</td>\n",
       "      <td>0</td>\n",
       "      <td>Adjuntas</td>\n",
       "      <td>Puerto Rico</td>\n",
       "      <td>1527</td>\n",
       "      <td>0</td>\n",
       "      <td>0</td>\n",
       "      <td>tan</td>\n",
       "    </tr>\n",
       "    <tr>\n",
       "      <th>2</th>\n",
       "      <td>for_sale</td>\n",
       "      <td>67000</td>\n",
       "      <td>2</td>\n",
       "      <td>1</td>\n",
       "      <td>0</td>\n",
       "      <td>Juana Diaz</td>\n",
       "      <td>Puerto Rico</td>\n",
       "      <td>748</td>\n",
       "      <td>0</td>\n",
       "      <td>0</td>\n",
       "      <td>tan</td>\n",
       "    </tr>\n",
       "    <tr>\n",
       "      <th>3</th>\n",
       "      <td>for_sale</td>\n",
       "      <td>145000</td>\n",
       "      <td>4</td>\n",
       "      <td>2</td>\n",
       "      <td>0</td>\n",
       "      <td>Ponce</td>\n",
       "      <td>Puerto Rico</td>\n",
       "      <td>1800</td>\n",
       "      <td>0</td>\n",
       "      <td>0</td>\n",
       "      <td>tan</td>\n",
       "    </tr>\n",
       "    <tr>\n",
       "      <th>5</th>\n",
       "      <td>for_sale</td>\n",
       "      <td>179000</td>\n",
       "      <td>4</td>\n",
       "      <td>3</td>\n",
       "      <td>0</td>\n",
       "      <td>San Sebastian</td>\n",
       "      <td>Puerto Rico</td>\n",
       "      <td>2520</td>\n",
       "      <td>0</td>\n",
       "      <td>0</td>\n",
       "      <td>tan</td>\n",
       "    </tr>\n",
       "  </tbody>\n",
       "</table>\n",
       "</div>"
      ],
      "text/plain": [
       "     status   price  bed  bath  acre_lot           city        state  \\\n",
       "0  for_sale  105000    3     2         0       Adjuntas  Puerto Rico   \n",
       "1  for_sale   80000    4     2         0       Adjuntas  Puerto Rico   \n",
       "2  for_sale   67000    2     1         0     Juana Diaz  Puerto Rico   \n",
       "3  for_sale  145000    4     2         0          Ponce  Puerto Rico   \n",
       "5  for_sale  179000    4     3         0  San Sebastian  Puerto Rico   \n",
       "\n",
       "   house_size sold_date  clusters cluster  \n",
       "0         920         0         0     tan  \n",
       "1        1527         0         0     tan  \n",
       "2         748         0         0     tan  \n",
       "3        1800         0         0     tan  \n",
       "5        2520         0         0     tan  "
      ]
     },
     "execution_count": 25,
     "metadata": {},
     "output_type": "execute_result"
    }
   ],
   "source": [
    "df.head()"
   ]
  },
  {
   "cell_type": "markdown",
   "id": "0c5337bf-c7eb-46e6-b679-4a37e8063c9a",
   "metadata": {},
   "source": [
    "# Exports"
   ]
  },
  {
   "cell_type": "code",
   "execution_count": 28,
   "id": "83764add-d1d8-4334-8e04-28b1c80f0778",
   "metadata": {},
   "outputs": [],
   "source": [
    "# Export to csv\n",
    "\n",
    "df.to_csv(os.path.join(path, '02 Data', 'Prepared Data', 'realtor-dataset-100k.clusters.csv'))"
   ]
  },
  {
   "cell_type": "code",
   "execution_count": null,
   "id": "4de9f706-a9ad-4b7b-b04c-139c3bc32dd7",
   "metadata": {},
   "outputs": [],
   "source": []
  }
 ],
 "metadata": {
  "kernelspec": {
   "display_name": "Python 3 (ipykernel)",
   "language": "python",
   "name": "python3"
  },
  "language_info": {
   "codemirror_mode": {
    "name": "ipython",
    "version": 3
   },
   "file_extension": ".py",
   "mimetype": "text/x-python",
   "name": "python",
   "nbconvert_exporter": "python",
   "pygments_lexer": "ipython3",
   "version": "3.9.7"
  }
 },
 "nbformat": 4,
 "nbformat_minor": 5
}
