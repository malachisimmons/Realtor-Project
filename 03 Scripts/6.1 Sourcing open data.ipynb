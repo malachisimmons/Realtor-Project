{
 "cells": [
  {
   "cell_type": "markdown",
   "id": "7d471494-314b-4109-9610-76945ede9217",
   "metadata": {
    "tags": []
   },
   "source": [
    "# Imports"
   ]
  },
  {
   "cell_type": "code",
   "execution_count": 1,
   "id": "742eb654-b07d-49c5-a5ce-88b8446883c0",
   "metadata": {},
   "outputs": [],
   "source": [
    "# Importing Libraries\n",
    "import pandas as pd\n",
    "import numpy as np\n",
    "import os\n",
    "import matplotlib.pyplot as plt\n",
    "import seaborn as sns\n",
    "import scipy"
   ]
  },
  {
   "cell_type": "code",
   "execution_count": 214,
   "id": "f00c0663-4914-4dd7-98aa-c604ed7398ce",
   "metadata": {},
   "outputs": [],
   "source": [
    "path = r\"C:\\Users\\malac\\Downloads\\Realtor.com cf\""
   ]
  },
  {
   "cell_type": "code",
   "execution_count": 215,
   "id": "86d2dad3-fdfd-4848-a4c8-65a303070649",
   "metadata": {},
   "outputs": [
    {
     "data": {
      "text/plain": [
       "'C:\\\\Users\\\\malac\\\\Downloads\\\\Realtor.com cf'"
      ]
     },
     "execution_count": 215,
     "metadata": {},
     "output_type": "execute_result"
    }
   ],
   "source": [
    "path"
   ]
  },
  {
   "cell_type": "code",
   "execution_count": 217,
   "id": "8013c8e8-2a8f-4231-bde5-8faeb580928e",
   "metadata": {},
   "outputs": [],
   "source": [
    "# Importing dataset as df\n",
    "\n",
    "df = pd.read_csv(os.path.join(path, 'Data', 'Original Data', 'realtor-dataset-100k.csv'))"
   ]
  },
  {
   "cell_type": "markdown",
   "id": "00a2d858-a8ce-4452-b647-124596c0d9fc",
   "metadata": {},
   "source": [
    "# Data Wrangling"
   ]
  },
  {
   "cell_type": "markdown",
   "id": "5b89d03e-fb53-43bf-b6ed-3a02684037c7",
   "metadata": {
    "tags": []
   },
   "source": [
    "## A. Changing Data Types and Dropping NaNs"
   ]
  },
  {
   "cell_type": "code",
   "execution_count": null,
   "id": "0d495bc7-0064-460d-8e6c-8e413996a85c",
   "metadata": {},
   "outputs": [
    {
     "data": {
      "text/plain": [
       "(100000, 12)"
      ]
     },
     "execution_count": 11,
     "metadata": {},
     "output_type": "execute_result"
    }
   ],
   "source": [
    "# Checking the shape of df\n",
    "\n",
    "df.shape"
   ]
  },
  {
   "cell_type": "code",
   "execution_count": null,
   "id": "8485dd65-a21c-4dbe-8f15-9ce95857ca0d",
   "metadata": {},
   "outputs": [
    {
     "data": {
      "text/plain": [
       "status           object\n",
       "price             int64\n",
       "bed             float64\n",
       "bath            float64\n",
       "acre_lot        float64\n",
       "full_address     object\n",
       "street           object\n",
       "city             object\n",
       "state            object\n",
       "zip_code        float64\n",
       "house_size      float64\n",
       "sold_date        object\n",
       "dtype: object"
      ]
     },
     "execution_count": 12,
     "metadata": {},
     "output_type": "execute_result"
    }
   ],
   "source": [
    "# Checking data types\n",
    "\n",
    "df.dtypes"
   ]
  },
  {
   "cell_type": "code",
   "execution_count": 13,
   "id": "c2d03062-1d40-4a8f-bb7e-41a3761d421c",
   "metadata": {},
   "outputs": [
    {
     "name": "stdout",
     "output_type": "stream",
     "text": [
      "<class 'pandas.core.frame.DataFrame'>\n",
      "RangeIndex: 100000 entries, 0 to 99999\n",
      "Data columns (total 12 columns):\n",
      " #   Column        Non-Null Count   Dtype  \n",
      "---  ------        --------------   -----  \n",
      " 0   status        100000 non-null  object \n",
      " 1   price         100000 non-null  int64  \n",
      " 2   bed           75050 non-null   float64\n",
      " 3   bath          75112 non-null   float64\n",
      " 4   acre_lot      85987 non-null   float64\n",
      " 5   full_address  100000 non-null  object \n",
      " 6   street        99916 non-null   object \n",
      " 7   city          99948 non-null   object \n",
      " 8   state         100000 non-null  object \n",
      " 9   zip_code      99805 non-null   float64\n",
      " 10  house_size    75082 non-null   float64\n",
      " 11  sold_date     28745 non-null   object \n",
      "dtypes: float64(5), int64(1), object(6)\n",
      "memory usage: 9.2+ MB\n"
     ]
    }
   ],
   "source": [
    "# Checking data types closer\n",
    "\n",
    "df.info()"
   ]
  },
  {
   "cell_type": "markdown",
   "id": "52f65175-0a65-40c3-9442-6d80d9950eee",
   "metadata": {
    "tags": []
   },
   "source": [
    "## All 5 of the float64 dtypes need to be changed to int64. First I need to check values, and remove any NaNs, then change string type.\n"
   ]
  },
  {
   "cell_type": "code",
   "execution_count": 15,
   "id": "8256d41e-aaa7-4238-bfba-17ba0eacc947",
   "metadata": {},
   "outputs": [
    {
     "data": {
      "text/plain": [
       "3.0     30518\n",
       "NaN     24950\n",
       "4.0     16850\n",
       "2.0     11734\n",
       "5.0      5359\n",
       "6.0      3814\n",
       "1.0      2088\n",
       "7.0      1551\n",
       "8.0      1120\n",
       "9.0       821\n",
       "10.0      385\n",
       "12.0      280\n",
       "11.0      136\n",
       "20.0       68\n",
       "15.0       56\n",
       "13.0       54\n",
       "18.0       44\n",
       "14.0       39\n",
       "28.0       28\n",
       "19.0       27\n",
       "24.0       24\n",
       "16.0       19\n",
       "17.0       10\n",
       "33.0       10\n",
       "86.0        5\n",
       "31.0        4\n",
       "40.0        3\n",
       "21.0        2\n",
       "27.0        1\n",
       "Name: bed, dtype: int64"
      ]
     },
     "execution_count": 15,
     "metadata": {},
     "output_type": "execute_result"
    }
   ],
   "source": [
    "# Check values\n",
    "\n",
    "df['bed'].value_counts(dropna = False)"
   ]
  },
  {
   "cell_type": "code",
   "execution_count": 40,
   "id": "ef7be71b-2e8f-4862-9e2b-7478c90000dc",
   "metadata": {},
   "outputs": [],
   "source": [
    "# Removing NaNs from bed\n",
    "\n",
    "df.dropna(subset = ['bed'], inplace = True)"
   ]
  },
  {
   "cell_type": "code",
   "execution_count": 41,
   "id": "5339a0a0-77dd-415b-af5c-d2510baa14ca",
   "metadata": {},
   "outputs": [],
   "source": [
    "# Change dtype to int64\n",
    "\n",
    "df['bed'] = df['bed'].astype('int64')"
   ]
  },
  {
   "cell_type": "code",
   "execution_count": 43,
   "id": "40eefd29-8e20-4443-938d-5fe762fdff62",
   "metadata": {},
   "outputs": [
    {
     "data": {
      "text/plain": [
       "(75050, 12)"
      ]
     },
     "execution_count": 43,
     "metadata": {},
     "output_type": "execute_result"
    }
   ],
   "source": [
    "# Check shape\n",
    "\n",
    "df.shape"
   ]
  },
  {
   "cell_type": "code",
   "execution_count": 23,
   "id": "a964e09f-91e6-40e7-a2b3-9a5da1c33940",
   "metadata": {},
   "outputs": [
    {
     "data": {
      "text/plain": [
       "2.0     31071\n",
       "NaN     24888\n",
       "3.0     17265\n",
       "1.0     15389\n",
       "4.0      6346\n",
       "5.0      2429\n",
       "6.0      1231\n",
       "7.0       460\n",
       "8.0       332\n",
       "9.0       221\n",
       "10.0      105\n",
       "12.0       63\n",
       "16.0       47\n",
       "13.0       37\n",
       "15.0       33\n",
       "20.0       31\n",
       "18.0       23\n",
       "11.0        9\n",
       "14.0        7\n",
       "56.0        5\n",
       "36.0        3\n",
       "19.0        2\n",
       "35.0        1\n",
       "25.0        1\n",
       "17.0        1\n",
       "Name: bath, dtype: int64"
      ]
     },
     "execution_count": 23,
     "metadata": {},
     "output_type": "execute_result"
    }
   ],
   "source": [
    "# Check values\n",
    "\n",
    "df['bath'].value_counts(dropna = False)"
   ]
  },
  {
   "cell_type": "code",
   "execution_count": 44,
   "id": "0122e1d7-479e-47a3-b66c-42f11a02b989",
   "metadata": {},
   "outputs": [],
   "source": [
    "# Remving NaNs from bath\n",
    "\n",
    "df.dropna(subset = ['bath'], inplace = True)"
   ]
  },
  {
   "cell_type": "code",
   "execution_count": 45,
   "id": "ddb8f6ff-1597-466b-8ecc-a2fc0a39cb71",
   "metadata": {},
   "outputs": [],
   "source": [
    "# Change dytpe to int64\n",
    "\n",
    "df['bath'] = df['bath'].astype('int64')"
   ]
  },
  {
   "cell_type": "code",
   "execution_count": 46,
   "id": "d48f9de1-cd37-42d5-96fb-26be8a002f11",
   "metadata": {},
   "outputs": [
    {
     "data": {
      "text/plain": [
       "(74826, 12)"
      ]
     },
     "execution_count": 46,
     "metadata": {},
     "output_type": "execute_result"
    }
   ],
   "source": [
    "# Check shape\n",
    "\n",
    "df.shape"
   ]
  },
  {
   "cell_type": "code",
   "execution_count": 26,
   "id": "dad4196a-3783-4013-b40c-42bf2ff2c209",
   "metadata": {},
   "outputs": [
    {
     "data": {
      "text/plain": [
       "NaN       14013\n",
       "0.09       2225\n",
       "0.11       2202\n",
       "0.08       2001\n",
       "0.23       1902\n",
       "          ...  \n",
       "200.00        1\n",
       "114.20        1\n",
       "123.47        1\n",
       "44.00         1\n",
       "2.86          1\n",
       "Name: acre_lot, Length: 1614, dtype: int64"
      ]
     },
     "execution_count": 26,
     "metadata": {},
     "output_type": "execute_result"
    }
   ],
   "source": [
    "# Check values\n",
    "\n",
    "df['acre_lot'].value_counts(dropna = False)"
   ]
  },
  {
   "cell_type": "code",
   "execution_count": 49,
   "id": "a8f97383-ee3b-4fdf-a780-f918a4af3ffd",
   "metadata": {},
   "outputs": [],
   "source": [
    "# Removing NanNs from acre lot\n",
    "\n",
    "df.dropna(subset = ['acre_lot'], inplace = True)"
   ]
  },
  {
   "cell_type": "code",
   "execution_count": 50,
   "id": "53b40b29-f7e4-4137-ab40-d6070cfc923e",
   "metadata": {},
   "outputs": [],
   "source": [
    "# Change dtype to int64\n",
    "\n",
    "df['acre_lot'] = df['acre_lot'].astype('int64')"
   ]
  },
  {
   "cell_type": "code",
   "execution_count": 51,
   "id": "d7a5554f-6917-422a-ace9-104fa348aedb",
   "metadata": {},
   "outputs": [
    {
     "data": {
      "text/plain": [
       "(61317, 12)"
      ]
     },
     "execution_count": 51,
     "metadata": {},
     "output_type": "execute_result"
    }
   ],
   "source": [
    "# Check shape\n",
    "\n",
    "df.shape"
   ]
  },
  {
   "cell_type": "code",
   "execution_count": 62,
   "id": "3ef4d57a-08ae-4205-82d4-86993a8bae3f",
   "metadata": {},
   "outputs": [
    {
     "data": {
      "text/plain": [
       "1201    1607\n",
       "6082     933\n",
       "926      872\n",
       "1040     742\n",
       "1420     715\n",
       "        ... \n",
       "5355       1\n",
       "3457       1\n",
       "5158       1\n",
       "3445       1\n",
       "2048       1\n",
       "Name: zip_code, Length: 708, dtype: int64"
      ]
     },
     "execution_count": 62,
     "metadata": {},
     "output_type": "execute_result"
    }
   ],
   "source": [
    "# Check values\n",
    "\n",
    "df['zip_code'].value_counts(dropna = False)"
   ]
  },
  {
   "cell_type": "code",
   "execution_count": 55,
   "id": "ef142ace-67df-48b1-93a8-e1fd30deb95a",
   "metadata": {},
   "outputs": [],
   "source": [
    "# Removing NaNs from zip code\n",
    "\n",
    "df.dropna(subset = ['zip_code'], inplace = True)"
   ]
  },
  {
   "cell_type": "code",
   "execution_count": 56,
   "id": "2bdd63e4-73c0-4a87-b28e-5ebcc1ea5866",
   "metadata": {},
   "outputs": [],
   "source": [
    "# Change dtype to int64\n",
    "\n",
    "df['zip_code'] = df['zip_code'].astype('int64')"
   ]
  },
  {
   "cell_type": "code",
   "execution_count": 57,
   "id": "32a83877-2051-4ad0-8ec3-7cd673a12de7",
   "metadata": {},
   "outputs": [
    {
     "data": {
      "text/plain": [
       "(61238, 12)"
      ]
     },
     "execution_count": 57,
     "metadata": {},
     "output_type": "execute_result"
    }
   ],
   "source": [
    "# Check shape\n",
    "\n",
    "df.shape"
   ]
  },
  {
   "cell_type": "code",
   "execution_count": 63,
   "id": "0e06552c-7ed1-4e15-b328-3443f4a9e4b1",
   "metadata": {},
   "outputs": [
    {
     "data": {
      "text/plain": [
       "1000    563\n",
       "1200    551\n",
       "2500    496\n",
       "2000    493\n",
       "1500    470\n",
       "       ... \n",
       "4117      1\n",
       "5309      1\n",
       "1837      1\n",
       "7665      1\n",
       "1727      1\n",
       "Name: house_size, Length: 3360, dtype: int64"
      ]
     },
     "execution_count": 63,
     "metadata": {},
     "output_type": "execute_result"
    }
   ],
   "source": [
    "# Check values\n",
    "\n",
    "df['house_size'].value_counts(dropna = False)"
   ]
  },
  {
   "cell_type": "code",
   "execution_count": 59,
   "id": "232d54b3-fedc-40d2-92cd-38432471de9e",
   "metadata": {},
   "outputs": [],
   "source": [
    "# Removing NaNs from house size\n",
    "\n",
    "df.dropna(subset = ['house_size'], inplace = True)"
   ]
  },
  {
   "cell_type": "code",
   "execution_count": 60,
   "id": "20ab6d8a-e4ca-4bf9-afa7-38776454c3fe",
   "metadata": {},
   "outputs": [],
   "source": [
    "# Change dtype to int64\n",
    "\n",
    "df['house_size'] = df['house_size'].astype('int64')"
   ]
  },
  {
   "cell_type": "code",
   "execution_count": 61,
   "id": "b5450ce0-1bf0-4ed8-8544-aeb0a7d3713d",
   "metadata": {},
   "outputs": [
    {
     "data": {
      "text/plain": [
       "(60671, 12)"
      ]
     },
     "execution_count": 61,
     "metadata": {},
     "output_type": "execute_result"
    }
   ],
   "source": [
    "# Check shape\n",
    "\n",
    "df.shape"
   ]
  },
  {
   "cell_type": "code",
   "execution_count": 67,
   "id": "d66b474c-7c1d-42a6-b133-4b762f2da21d",
   "metadata": {},
   "outputs": [
    {
     "data": {
      "text/html": [
       "<div>\n",
       "<style scoped>\n",
       "    .dataframe tbody tr th:only-of-type {\n",
       "        vertical-align: middle;\n",
       "    }\n",
       "\n",
       "    .dataframe tbody tr th {\n",
       "        vertical-align: top;\n",
       "    }\n",
       "\n",
       "    .dataframe thead th {\n",
       "        text-align: right;\n",
       "    }\n",
       "</style>\n",
       "<table border=\"1\" class=\"dataframe\">\n",
       "  <thead>\n",
       "    <tr style=\"text-align: right;\">\n",
       "      <th></th>\n",
       "      <th>status</th>\n",
       "      <th>price</th>\n",
       "      <th>bed</th>\n",
       "      <th>bath</th>\n",
       "      <th>acre_lot</th>\n",
       "      <th>full_address</th>\n",
       "      <th>street</th>\n",
       "      <th>city</th>\n",
       "      <th>state</th>\n",
       "      <th>zip_code</th>\n",
       "      <th>house_size</th>\n",
       "      <th>sold_date</th>\n",
       "    </tr>\n",
       "  </thead>\n",
       "  <tbody>\n",
       "    <tr>\n",
       "      <th>0</th>\n",
       "      <td>for_sale</td>\n",
       "      <td>105000</td>\n",
       "      <td>3</td>\n",
       "      <td>2</td>\n",
       "      <td>0</td>\n",
       "      <td>Sector Yahuecas Titulo # V84, Adjuntas, PR, 00601</td>\n",
       "      <td>Sector Yahuecas Titulo # V84</td>\n",
       "      <td>Adjuntas</td>\n",
       "      <td>Puerto Rico</td>\n",
       "      <td>601</td>\n",
       "      <td>920</td>\n",
       "      <td>NaN</td>\n",
       "    </tr>\n",
       "    <tr>\n",
       "      <th>1</th>\n",
       "      <td>for_sale</td>\n",
       "      <td>80000</td>\n",
       "      <td>4</td>\n",
       "      <td>2</td>\n",
       "      <td>0</td>\n",
       "      <td>Km 78 9 Carr # 135, Adjuntas, PR, 00601</td>\n",
       "      <td>Km 78 9 Carr # 135</td>\n",
       "      <td>Adjuntas</td>\n",
       "      <td>Puerto Rico</td>\n",
       "      <td>601</td>\n",
       "      <td>1527</td>\n",
       "      <td>NaN</td>\n",
       "    </tr>\n",
       "    <tr>\n",
       "      <th>2</th>\n",
       "      <td>for_sale</td>\n",
       "      <td>67000</td>\n",
       "      <td>2</td>\n",
       "      <td>1</td>\n",
       "      <td>0</td>\n",
       "      <td>556G 556-G 16 St, Juana Diaz, PR, 00795</td>\n",
       "      <td>556G 556-G 16 St</td>\n",
       "      <td>Juana Diaz</td>\n",
       "      <td>Puerto Rico</td>\n",
       "      <td>795</td>\n",
       "      <td>748</td>\n",
       "      <td>NaN</td>\n",
       "    </tr>\n",
       "    <tr>\n",
       "      <th>3</th>\n",
       "      <td>for_sale</td>\n",
       "      <td>145000</td>\n",
       "      <td>4</td>\n",
       "      <td>2</td>\n",
       "      <td>0</td>\n",
       "      <td>R5 Comunidad El Paraso Calle De Oro R-5 Ponce,...</td>\n",
       "      <td>R5 Comunidad El Paraso Calle De Oro R-5 Ponce</td>\n",
       "      <td>Ponce</td>\n",
       "      <td>Puerto Rico</td>\n",
       "      <td>731</td>\n",
       "      <td>1800</td>\n",
       "      <td>NaN</td>\n",
       "    </tr>\n",
       "    <tr>\n",
       "      <th>5</th>\n",
       "      <td>for_sale</td>\n",
       "      <td>179000</td>\n",
       "      <td>4</td>\n",
       "      <td>3</td>\n",
       "      <td>0</td>\n",
       "      <td>Bo Calabazas San Sebastian, San Sebastian, PR,...</td>\n",
       "      <td>Bo Calabazas San Sebastian</td>\n",
       "      <td>San Sebastian</td>\n",
       "      <td>Puerto Rico</td>\n",
       "      <td>612</td>\n",
       "      <td>2520</td>\n",
       "      <td>NaN</td>\n",
       "    </tr>\n",
       "  </tbody>\n",
       "</table>\n",
       "</div>"
      ],
      "text/plain": [
       "     status   price  bed  bath  acre_lot  \\\n",
       "0  for_sale  105000    3     2         0   \n",
       "1  for_sale   80000    4     2         0   \n",
       "2  for_sale   67000    2     1         0   \n",
       "3  for_sale  145000    4     2         0   \n",
       "5  for_sale  179000    4     3         0   \n",
       "\n",
       "                                        full_address  \\\n",
       "0  Sector Yahuecas Titulo # V84, Adjuntas, PR, 00601   \n",
       "1            Km 78 9 Carr # 135, Adjuntas, PR, 00601   \n",
       "2            556G 556-G 16 St, Juana Diaz, PR, 00795   \n",
       "3  R5 Comunidad El Paraso Calle De Oro R-5 Ponce,...   \n",
       "5  Bo Calabazas San Sebastian, San Sebastian, PR,...   \n",
       "\n",
       "                                          street           city        state  \\\n",
       "0                   Sector Yahuecas Titulo # V84       Adjuntas  Puerto Rico   \n",
       "1                             Km 78 9 Carr # 135       Adjuntas  Puerto Rico   \n",
       "2                               556G 556-G 16 St     Juana Diaz  Puerto Rico   \n",
       "3  R5 Comunidad El Paraso Calle De Oro R-5 Ponce          Ponce  Puerto Rico   \n",
       "5                     Bo Calabazas San Sebastian  San Sebastian  Puerto Rico   \n",
       "\n",
       "   zip_code  house_size sold_date  \n",
       "0       601         920       NaN  \n",
       "1       601        1527       NaN  \n",
       "2       795         748       NaN  \n",
       "3       731        1800       NaN  \n",
       "5       612        2520       NaN  "
      ]
     },
     "execution_count": 67,
     "metadata": {},
     "output_type": "execute_result"
    }
   ],
   "source": [
    "# Checking all columns\n",
    "\n",
    "df.head()"
   ]
  },
  {
   "cell_type": "markdown",
   "id": "429bda7c-5459-4d61-93a5-4cb31da8f973",
   "metadata": {},
   "source": [
    "## The sold_date column still has NaNs but it represents houses that have never been sold and not missing data."
   ]
  },
  {
   "cell_type": "markdown",
   "id": "cf63143c-5100-434a-9e49-c79e53197952",
   "metadata": {
    "tags": []
   },
   "source": [
    "## B. Dropping and Renaming Columns"
   ]
  },
  {
   "cell_type": "code",
   "execution_count": 70,
   "id": "59330dee-162e-46f0-869d-86b6af5cec6c",
   "metadata": {},
   "outputs": [],
   "source": [
    "# Dropping columns that contain PII data, but will keep addresses for geospatial visualizations later\n",
    "\n",
    "df_2 = df.drop(['full_address', 'street', 'city', 'zip_code'], axis = 1)"
   ]
  },
  {
   "cell_type": "code",
   "execution_count": 73,
   "id": "aca06edc-fcc6-4f7d-bf63-a94d5ab4c05e",
   "metadata": {},
   "outputs": [
    {
     "data": {
      "text/html": [
       "<div>\n",
       "<style scoped>\n",
       "    .dataframe tbody tr th:only-of-type {\n",
       "        vertical-align: middle;\n",
       "    }\n",
       "\n",
       "    .dataframe tbody tr th {\n",
       "        vertical-align: top;\n",
       "    }\n",
       "\n",
       "    .dataframe thead th {\n",
       "        text-align: right;\n",
       "    }\n",
       "</style>\n",
       "<table border=\"1\" class=\"dataframe\">\n",
       "  <thead>\n",
       "    <tr style=\"text-align: right;\">\n",
       "      <th></th>\n",
       "      <th>status</th>\n",
       "      <th>price</th>\n",
       "      <th>bed</th>\n",
       "      <th>bath</th>\n",
       "      <th>acre_lot</th>\n",
       "      <th>state</th>\n",
       "      <th>house_size</th>\n",
       "      <th>sold_date</th>\n",
       "    </tr>\n",
       "  </thead>\n",
       "  <tbody>\n",
       "    <tr>\n",
       "      <th>0</th>\n",
       "      <td>for_sale</td>\n",
       "      <td>105000</td>\n",
       "      <td>3</td>\n",
       "      <td>2</td>\n",
       "      <td>0</td>\n",
       "      <td>Puerto Rico</td>\n",
       "      <td>920</td>\n",
       "      <td>NaN</td>\n",
       "    </tr>\n",
       "    <tr>\n",
       "      <th>1</th>\n",
       "      <td>for_sale</td>\n",
       "      <td>80000</td>\n",
       "      <td>4</td>\n",
       "      <td>2</td>\n",
       "      <td>0</td>\n",
       "      <td>Puerto Rico</td>\n",
       "      <td>1527</td>\n",
       "      <td>NaN</td>\n",
       "    </tr>\n",
       "    <tr>\n",
       "      <th>2</th>\n",
       "      <td>for_sale</td>\n",
       "      <td>67000</td>\n",
       "      <td>2</td>\n",
       "      <td>1</td>\n",
       "      <td>0</td>\n",
       "      <td>Puerto Rico</td>\n",
       "      <td>748</td>\n",
       "      <td>NaN</td>\n",
       "    </tr>\n",
       "    <tr>\n",
       "      <th>3</th>\n",
       "      <td>for_sale</td>\n",
       "      <td>145000</td>\n",
       "      <td>4</td>\n",
       "      <td>2</td>\n",
       "      <td>0</td>\n",
       "      <td>Puerto Rico</td>\n",
       "      <td>1800</td>\n",
       "      <td>NaN</td>\n",
       "    </tr>\n",
       "    <tr>\n",
       "      <th>5</th>\n",
       "      <td>for_sale</td>\n",
       "      <td>179000</td>\n",
       "      <td>4</td>\n",
       "      <td>3</td>\n",
       "      <td>0</td>\n",
       "      <td>Puerto Rico</td>\n",
       "      <td>2520</td>\n",
       "      <td>NaN</td>\n",
       "    </tr>\n",
       "  </tbody>\n",
       "</table>\n",
       "</div>"
      ],
      "text/plain": [
       "     status   price  bed  bath  acre_lot        state  house_size sold_date\n",
       "0  for_sale  105000    3     2         0  Puerto Rico         920       NaN\n",
       "1  for_sale   80000    4     2         0  Puerto Rico        1527       NaN\n",
       "2  for_sale   67000    2     1         0  Puerto Rico         748       NaN\n",
       "3  for_sale  145000    4     2         0  Puerto Rico        1800       NaN\n",
       "5  for_sale  179000    4     3         0  Puerto Rico        2520       NaN"
      ]
     },
     "execution_count": 73,
     "metadata": {},
     "output_type": "execute_result"
    }
   ],
   "source": [
    "# Checking all columns\n",
    "\n",
    "df_2.head()"
   ]
  },
  {
   "cell_type": "markdown",
   "id": "0273ee4a-5adc-4966-b61c-7fb063e0889d",
   "metadata": {},
   "source": [
    "# Cleaning Data"
   ]
  },
  {
   "cell_type": "markdown",
   "id": "c79cf6f1-a982-492b-aa07-32d60c23bc88",
   "metadata": {},
   "source": [
    "## A. Duplicates"
   ]
  },
  {
   "cell_type": "code",
   "execution_count": 81,
   "id": "fa562ad6-d848-4b9b-b5dd-778f4f573230",
   "metadata": {},
   "outputs": [],
   "source": [
    "# Finding Dups\n",
    "\n",
    "df_dups = df_2[df_2.duplicated()]"
   ]
  },
  {
   "cell_type": "code",
   "execution_count": 82,
   "id": "94896f81-d238-4fe8-93c0-993c7a7fd5b8",
   "metadata": {},
   "outputs": [
    {
     "data": {
      "text/html": [
       "<div>\n",
       "<style scoped>\n",
       "    .dataframe tbody tr th:only-of-type {\n",
       "        vertical-align: middle;\n",
       "    }\n",
       "\n",
       "    .dataframe tbody tr th {\n",
       "        vertical-align: top;\n",
       "    }\n",
       "\n",
       "    .dataframe thead th {\n",
       "        text-align: right;\n",
       "    }\n",
       "</style>\n",
       "<table border=\"1\" class=\"dataframe\">\n",
       "  <thead>\n",
       "    <tr style=\"text-align: right;\">\n",
       "      <th></th>\n",
       "      <th>status</th>\n",
       "      <th>price</th>\n",
       "      <th>bed</th>\n",
       "      <th>bath</th>\n",
       "      <th>acre_lot</th>\n",
       "      <th>state</th>\n",
       "      <th>house_size</th>\n",
       "      <th>sold_date</th>\n",
       "    </tr>\n",
       "  </thead>\n",
       "  <tbody>\n",
       "    <tr>\n",
       "      <th>135</th>\n",
       "      <td>for_sale</td>\n",
       "      <td>105000</td>\n",
       "      <td>3</td>\n",
       "      <td>2</td>\n",
       "      <td>0</td>\n",
       "      <td>Puerto Rico</td>\n",
       "      <td>1500</td>\n",
       "      <td>NaN</td>\n",
       "    </tr>\n",
       "    <tr>\n",
       "      <th>139</th>\n",
       "      <td>for_sale</td>\n",
       "      <td>300000</td>\n",
       "      <td>5</td>\n",
       "      <td>3</td>\n",
       "      <td>7</td>\n",
       "      <td>Puerto Rico</td>\n",
       "      <td>5403</td>\n",
       "      <td>NaN</td>\n",
       "    </tr>\n",
       "    <tr>\n",
       "      <th>140</th>\n",
       "      <td>for_sale</td>\n",
       "      <td>155000</td>\n",
       "      <td>3</td>\n",
       "      <td>2</td>\n",
       "      <td>0</td>\n",
       "      <td>Puerto Rico</td>\n",
       "      <td>4161</td>\n",
       "      <td>NaN</td>\n",
       "    </tr>\n",
       "    <tr>\n",
       "      <th>148</th>\n",
       "      <td>for_sale</td>\n",
       "      <td>122500</td>\n",
       "      <td>3</td>\n",
       "      <td>2</td>\n",
       "      <td>0</td>\n",
       "      <td>Puerto Rico</td>\n",
       "      <td>1118</td>\n",
       "      <td>NaN</td>\n",
       "    </tr>\n",
       "    <tr>\n",
       "      <th>149</th>\n",
       "      <td>for_sale</td>\n",
       "      <td>575000</td>\n",
       "      <td>3</td>\n",
       "      <td>2</td>\n",
       "      <td>3</td>\n",
       "      <td>Puerto Rico</td>\n",
       "      <td>4000</td>\n",
       "      <td>NaN</td>\n",
       "    </tr>\n",
       "    <tr>\n",
       "      <th>...</th>\n",
       "      <td>...</td>\n",
       "      <td>...</td>\n",
       "      <td>...</td>\n",
       "      <td>...</td>\n",
       "      <td>...</td>\n",
       "      <td>...</td>\n",
       "      <td>...</td>\n",
       "      <td>...</td>\n",
       "    </tr>\n",
       "    <tr>\n",
       "      <th>99994</th>\n",
       "      <td>for_sale</td>\n",
       "      <td>385000</td>\n",
       "      <td>2</td>\n",
       "      <td>2</td>\n",
       "      <td>1</td>\n",
       "      <td>Massachusetts</td>\n",
       "      <td>1225</td>\n",
       "      <td>NaN</td>\n",
       "    </tr>\n",
       "    <tr>\n",
       "      <th>99996</th>\n",
       "      <td>for_sale</td>\n",
       "      <td>349900</td>\n",
       "      <td>2</td>\n",
       "      <td>1</td>\n",
       "      <td>0</td>\n",
       "      <td>Massachusetts</td>\n",
       "      <td>1075</td>\n",
       "      <td>6/7/1999</td>\n",
       "    </tr>\n",
       "    <tr>\n",
       "      <th>99997</th>\n",
       "      <td>for_sale</td>\n",
       "      <td>549000</td>\n",
       "      <td>3</td>\n",
       "      <td>2</td>\n",
       "      <td>1</td>\n",
       "      <td>Massachusetts</td>\n",
       "      <td>1632</td>\n",
       "      <td>9/27/1995</td>\n",
       "    </tr>\n",
       "    <tr>\n",
       "      <th>99998</th>\n",
       "      <td>for_sale</td>\n",
       "      <td>299000</td>\n",
       "      <td>3</td>\n",
       "      <td>2</td>\n",
       "      <td>0</td>\n",
       "      <td>Massachusetts</td>\n",
       "      <td>1332</td>\n",
       "      <td>9/11/2000</td>\n",
       "    </tr>\n",
       "    <tr>\n",
       "      <th>99999</th>\n",
       "      <td>for_sale</td>\n",
       "      <td>535000</td>\n",
       "      <td>3</td>\n",
       "      <td>3</td>\n",
       "      <td>21</td>\n",
       "      <td>Massachusetts</td>\n",
       "      <td>1846</td>\n",
       "      <td>10/6/2020</td>\n",
       "    </tr>\n",
       "  </tbody>\n",
       "</table>\n",
       "<p>51383 rows × 8 columns</p>\n",
       "</div>"
      ],
      "text/plain": [
       "         status   price  bed  bath  acre_lot          state  house_size  \\\n",
       "135    for_sale  105000    3     2         0    Puerto Rico        1500   \n",
       "139    for_sale  300000    5     3         7    Puerto Rico        5403   \n",
       "140    for_sale  155000    3     2         0    Puerto Rico        4161   \n",
       "148    for_sale  122500    3     2         0    Puerto Rico        1118   \n",
       "149    for_sale  575000    3     2         3    Puerto Rico        4000   \n",
       "...         ...     ...  ...   ...       ...            ...         ...   \n",
       "99994  for_sale  385000    2     2         1  Massachusetts        1225   \n",
       "99996  for_sale  349900    2     1         0  Massachusetts        1075   \n",
       "99997  for_sale  549000    3     2         1  Massachusetts        1632   \n",
       "99998  for_sale  299000    3     2         0  Massachusetts        1332   \n",
       "99999  for_sale  535000    3     3        21  Massachusetts        1846   \n",
       "\n",
       "       sold_date  \n",
       "135          NaN  \n",
       "139          NaN  \n",
       "140          NaN  \n",
       "148          NaN  \n",
       "149          NaN  \n",
       "...          ...  \n",
       "99994        NaN  \n",
       "99996   6/7/1999  \n",
       "99997  9/27/1995  \n",
       "99998  9/11/2000  \n",
       "99999  10/6/2020  \n",
       "\n",
       "[51383 rows x 8 columns]"
      ]
     },
     "execution_count": 82,
     "metadata": {},
     "output_type": "execute_result"
    }
   ],
   "source": [
    "df_dups"
   ]
  },
  {
   "cell_type": "code",
   "execution_count": 99,
   "id": "4c3e27b0-adc4-45a8-9bd8-b4c0915d3c76",
   "metadata": {},
   "outputs": [],
   "source": [
    "# Removing dups in new df\n",
    "\n",
    "df_3 = df_2.drop_duplicates()"
   ]
  },
  {
   "cell_type": "markdown",
   "id": "4d98f6bc-354b-4599-843c-3a7e9051dc76",
   "metadata": {},
   "source": [
    "## B. Mixed Data"
   ]
  },
  {
   "cell_type": "code",
   "execution_count": 100,
   "id": "0fb41803-f089-47d9-907a-388cfd142e57",
   "metadata": {},
   "outputs": [
    {
     "name": "stdout",
     "output_type": "stream",
     "text": [
      "sold_date\n"
     ]
    }
   ],
   "source": [
    "# Checking mixed data types\n",
    "\n",
    "for col in df_2.columns.tolist():\n",
    "  weird = (df_2[[col]].applymap(type) != df_2[[col]].iloc[0].apply(type)).any(axis = 1)\n",
    "  if len (df_2[weird]) > 0:\n",
    "    print (col)"
   ]
  },
  {
   "cell_type": "markdown",
   "id": "23e0b2a9-0f9b-4659-9fe5-1d3fe08617b9",
   "metadata": {},
   "source": [
    "That is okay because we have already addressed the NaNs in this column are essential to this analysis."
   ]
  },
  {
   "cell_type": "markdown",
   "id": "42fbef79-e3d5-4592-9daf-b9df0fae031b",
   "metadata": {},
   "source": [
    "## C. Missing Data"
   ]
  },
  {
   "cell_type": "code",
   "execution_count": 101,
   "id": "7a6a6f9c-c62b-4e20-8852-412ebd684bc7",
   "metadata": {},
   "outputs": [
    {
     "data": {
      "text/plain": [
       "status           0\n",
       "price            0\n",
       "bed              0\n",
       "bath             0\n",
       "acre_lot         0\n",
       "state            0\n",
       "house_size       0\n",
       "sold_date     4932\n",
       "dtype: int64"
      ]
     },
     "execution_count": 101,
     "metadata": {},
     "output_type": "execute_result"
    }
   ],
   "source": [
    "# Check for missing data\n",
    "\n",
    "df_3.isnull().sum()"
   ]
  },
  {
   "cell_type": "markdown",
   "id": "0b2d8408-ee49-4241-b28b-79a6065d91c9",
   "metadata": {},
   "source": [
    "## No missing data"
   ]
  },
  {
   "cell_type": "markdown",
   "id": "2738ebb7-ac02-4ea6-b76a-2e5f6c29ba99",
   "metadata": {
    "tags": []
   },
   "source": [
    "# Descriptive Analysis"
   ]
  },
  {
   "cell_type": "code",
   "execution_count": 102,
   "id": "591a1dd0-605e-4b6c-aed3-51b9e151f334",
   "metadata": {},
   "outputs": [
    {
     "data": {
      "text/html": [
       "<div>\n",
       "<style scoped>\n",
       "    .dataframe tbody tr th:only-of-type {\n",
       "        vertical-align: middle;\n",
       "    }\n",
       "\n",
       "    .dataframe tbody tr th {\n",
       "        vertical-align: top;\n",
       "    }\n",
       "\n",
       "    .dataframe thead th {\n",
       "        text-align: right;\n",
       "    }\n",
       "</style>\n",
       "<table border=\"1\" class=\"dataframe\">\n",
       "  <thead>\n",
       "    <tr style=\"text-align: right;\">\n",
       "      <th></th>\n",
       "      <th>price</th>\n",
       "      <th>bed</th>\n",
       "      <th>bath</th>\n",
       "      <th>acre_lot</th>\n",
       "      <th>house_size</th>\n",
       "    </tr>\n",
       "  </thead>\n",
       "  <tbody>\n",
       "    <tr>\n",
       "      <th>count</th>\n",
       "      <td>9.288000e+03</td>\n",
       "      <td>9288.000000</td>\n",
       "      <td>9288.000000</td>\n",
       "      <td>9288.000000</td>\n",
       "      <td>9.288000e+03</td>\n",
       "    </tr>\n",
       "    <tr>\n",
       "      <th>mean</th>\n",
       "      <td>5.891960e+05</td>\n",
       "      <td>3.874892</td>\n",
       "      <td>2.644488</td>\n",
       "      <td>16.717593</td>\n",
       "      <td>2.526759e+03</td>\n",
       "    </tr>\n",
       "    <tr>\n",
       "      <th>std</th>\n",
       "      <td>1.241282e+06</td>\n",
       "      <td>2.049475</td>\n",
       "      <td>1.685901</td>\n",
       "      <td>1045.795633</td>\n",
       "      <td>1.514505e+04</td>\n",
       "    </tr>\n",
       "    <tr>\n",
       "      <th>min</th>\n",
       "      <td>1.000000e+04</td>\n",
       "      <td>1.000000</td>\n",
       "      <td>1.000000</td>\n",
       "      <td>0.000000</td>\n",
       "      <td>1.810000e+02</td>\n",
       "    </tr>\n",
       "    <tr>\n",
       "      <th>25%</th>\n",
       "      <td>2.399000e+05</td>\n",
       "      <td>3.000000</td>\n",
       "      <td>2.000000</td>\n",
       "      <td>0.000000</td>\n",
       "      <td>1.296000e+03</td>\n",
       "    </tr>\n",
       "    <tr>\n",
       "      <th>50%</th>\n",
       "      <td>3.499435e+05</td>\n",
       "      <td>3.000000</td>\n",
       "      <td>2.000000</td>\n",
       "      <td>0.000000</td>\n",
       "      <td>1.870000e+03</td>\n",
       "    </tr>\n",
       "    <tr>\n",
       "      <th>75%</th>\n",
       "      <td>5.549250e+05</td>\n",
       "      <td>4.000000</td>\n",
       "      <td>3.000000</td>\n",
       "      <td>1.000000</td>\n",
       "      <td>2.856000e+03</td>\n",
       "    </tr>\n",
       "    <tr>\n",
       "      <th>max</th>\n",
       "      <td>6.000000e+07</td>\n",
       "      <td>86.000000</td>\n",
       "      <td>56.000000</td>\n",
       "      <td>100000.000000</td>\n",
       "      <td>1.450112e+06</td>\n",
       "    </tr>\n",
       "  </tbody>\n",
       "</table>\n",
       "</div>"
      ],
      "text/plain": [
       "              price          bed         bath       acre_lot    house_size\n",
       "count  9.288000e+03  9288.000000  9288.000000    9288.000000  9.288000e+03\n",
       "mean   5.891960e+05     3.874892     2.644488      16.717593  2.526759e+03\n",
       "std    1.241282e+06     2.049475     1.685901    1045.795633  1.514505e+04\n",
       "min    1.000000e+04     1.000000     1.000000       0.000000  1.810000e+02\n",
       "25%    2.399000e+05     3.000000     2.000000       0.000000  1.296000e+03\n",
       "50%    3.499435e+05     3.000000     2.000000       0.000000  1.870000e+03\n",
       "75%    5.549250e+05     4.000000     3.000000       1.000000  2.856000e+03\n",
       "max    6.000000e+07    86.000000    56.000000  100000.000000  1.450112e+06"
      ]
     },
     "execution_count": 102,
     "metadata": {},
     "output_type": "execute_result"
    }
   ],
   "source": [
    "# Run basic analysis of all columns\n",
    "\n",
    "df_3.describe()"
   ]
  },
  {
   "cell_type": "code",
   "execution_count": 103,
   "id": "dabf4a1a-ec93-49da-bacc-3becd2a82601",
   "metadata": {},
   "outputs": [],
   "source": [
    "# View in Excel \n",
    "\n",
    "df_2.describe().to_clipboard()"
   ]
  },
  {
   "cell_type": "markdown",
   "id": "91779936-ed45-405f-b525-1d081256e7ee",
   "metadata": {},
   "source": [
    "## Perform value count of all columns"
   ]
  },
  {
   "cell_type": "code",
   "execution_count": 104,
   "id": "b2fdc62a-6121-4ad5-b8db-0027c10c59a5",
   "metadata": {},
   "outputs": [
    {
     "data": {
      "text/plain": [
       "299900     149\n",
       "399900     121\n",
       "349900     117\n",
       "249900     110\n",
       "325000      87\n",
       "          ... \n",
       "186829       1\n",
       "946000       1\n",
       "193500       1\n",
       "587000       1\n",
       "1479900      1\n",
       "Name: price, Length: 1499, dtype: int64"
      ]
     },
     "execution_count": 104,
     "metadata": {},
     "output_type": "execute_result"
    }
   ],
   "source": [
    "# Check value of price\n",
    "\n",
    "df_3['price'].value_counts(dropna = False)"
   ]
  },
  {
   "cell_type": "code",
   "execution_count": 105,
   "id": "05789b4c-b1e1-4fcb-872e-f53b72edff94",
   "metadata": {},
   "outputs": [
    {
     "data": {
      "text/plain": [
       "3     3925\n",
       "4     2494\n",
       "2      876\n",
       "5      735\n",
       "6      557\n",
       "7      188\n",
       "8      156\n",
       "9      119\n",
       "1      113\n",
       "10      44\n",
       "12      26\n",
       "11      17\n",
       "13       7\n",
       "14       5\n",
       "15       5\n",
       "18       4\n",
       "20       3\n",
       "33       2\n",
       "19       2\n",
       "21       2\n",
       "40       1\n",
       "31       1\n",
       "86       1\n",
       "24       1\n",
       "17       1\n",
       "16       1\n",
       "28       1\n",
       "27       1\n",
       "Name: bed, dtype: int64"
      ]
     },
     "execution_count": 105,
     "metadata": {},
     "output_type": "execute_result"
    }
   ],
   "source": [
    "# Check value of bedrooms\n",
    "\n",
    "df_3['bed'].value_counts(dropna = False)"
   ]
  },
  {
   "cell_type": "markdown",
   "id": "6039a36f-c05a-4d82-a81d-a9da57971708",
   "metadata": {},
   "source": [
    "Not sure why so many houses with high number of bedrooms, I am assuming these to by typos and will change for more clean analysis. I will correct all the items with less than 10 entries. For exapmle, 86 bedrooms will be change to 8 bathrooms, 40 bedrooms to 4 bedrooms etc."
   ]
  },
  {
   "cell_type": "code",
   "execution_count": 107,
   "id": "aaa4de28-0a8d-4c9b-afa5-44978ace02f0",
   "metadata": {},
   "outputs": [
    {
     "data": {
      "text/html": [
       "<div>\n",
       "<style scoped>\n",
       "    .dataframe tbody tr th:only-of-type {\n",
       "        vertical-align: middle;\n",
       "    }\n",
       "\n",
       "    .dataframe tbody tr th {\n",
       "        vertical-align: top;\n",
       "    }\n",
       "\n",
       "    .dataframe thead th {\n",
       "        text-align: right;\n",
       "    }\n",
       "</style>\n",
       "<table border=\"1\" class=\"dataframe\">\n",
       "  <thead>\n",
       "    <tr style=\"text-align: right;\">\n",
       "      <th></th>\n",
       "      <th>status</th>\n",
       "      <th>price</th>\n",
       "      <th>bed</th>\n",
       "      <th>bath</th>\n",
       "      <th>acre_lot</th>\n",
       "      <th>state</th>\n",
       "      <th>house_size</th>\n",
       "      <th>sold_date</th>\n",
       "    </tr>\n",
       "  </thead>\n",
       "  <tbody>\n",
       "    <tr>\n",
       "      <th>80518</th>\n",
       "      <td>for_sale</td>\n",
       "      <td>15150000</td>\n",
       "      <td>86</td>\n",
       "      <td>56</td>\n",
       "      <td>1</td>\n",
       "      <td>Massachusetts</td>\n",
       "      <td>35666</td>\n",
       "      <td>NaN</td>\n",
       "    </tr>\n",
       "  </tbody>\n",
       "</table>\n",
       "</div>"
      ],
      "text/plain": [
       "         status     price  bed  bath  acre_lot          state  house_size  \\\n",
       "80518  for_sale  15150000   86    56         1  Massachusetts       35666   \n",
       "\n",
       "      sold_date  \n",
       "80518       NaN  "
      ]
     },
     "execution_count": 107,
     "metadata": {},
     "output_type": "execute_result"
    }
   ],
   "source": [
    "# Checking listing with 86 bedroooms\n",
    "\n",
    "df_3.loc[df_3['bed'] == 86]"
   ]
  },
  {
   "cell_type": "code",
   "execution_count": 109,
   "id": "caef3f0d-8274-4a20-af81-1eb78e9e23fc",
   "metadata": {
    "tags": []
   },
   "outputs": [],
   "source": [
    "# Replacing 86 with 8 bedrooms\n",
    "\n",
    "df_3.loc[df_3['bed'] == 86, 'bed'] = 8"
   ]
  },
  {
   "cell_type": "code",
   "execution_count": 112,
   "id": "ec55f055-dce5-49c0-b5a0-94090b30b4bf",
   "metadata": {
    "tags": []
   },
   "outputs": [],
   "source": [
    "# Replacing 28 with 3 bedrooms\n",
    "\n",
    "df_3.loc[df_3['bed'] == 28, 'bed'] = 3"
   ]
  },
  {
   "cell_type": "code",
   "execution_count": 113,
   "id": "6accc34b-80b5-4f51-9461-b241bb01b9fc",
   "metadata": {
    "tags": []
   },
   "outputs": [],
   "source": [
    "# Replacing 40 with 4 bedrooms\n",
    "\n",
    "df_3.loc[df_3['bed'] == 40, 'bed'] = 4"
   ]
  },
  {
   "cell_type": "code",
   "execution_count": 115,
   "id": "82a2e195-4ccc-4040-821d-c669ea4b7e88",
   "metadata": {},
   "outputs": [],
   "source": [
    "# Replacing 31 with 3 bedrooms\n",
    "\n",
    "df_3.loc[df_3['bed'] == 31, 'bed'] = 3 "
   ]
  },
  {
   "cell_type": "code",
   "execution_count": 116,
   "id": "17468e4a-b6e9-4bd4-a63d-33556ccffe94",
   "metadata": {},
   "outputs": [],
   "source": [
    "# Replacing 33 with 3 bedrooms\n",
    "\n",
    "df_3.loc[df_3['bed'] == 33, 'bed'] = 3"
   ]
  },
  {
   "cell_type": "code",
   "execution_count": 117,
   "id": "190251f3-4f23-499c-b8a2-913a13c9e5cb",
   "metadata": {},
   "outputs": [],
   "source": [
    "# Replacing 27 wtih 2\n",
    "\n",
    "df_3.loc[df_3['bed'] == 27, 'bed'] = 3"
   ]
  },
  {
   "cell_type": "code",
   "execution_count": 127,
   "id": "eacb0c20-1c8e-4bf8-8176-f9739c488a31",
   "metadata": {},
   "outputs": [],
   "source": [
    "# Replacing 24 with 2\n",
    "\n",
    "df_3.loc[df_3['bed'] == 24, 'bed'] = 2"
   ]
  },
  {
   "cell_type": "code",
   "execution_count": 128,
   "id": "b457c48f-3f36-4d62-b163-90de77da369a",
   "metadata": {},
   "outputs": [],
   "source": [
    "# Replacing 21 with 2\n",
    "\n",
    "df_3.loc[df_3['bed'] == 21, 'bed'] = 2"
   ]
  },
  {
   "cell_type": "code",
   "execution_count": 129,
   "id": "7db2fbdb-73ab-47e1-b4b0-be7c057ad0c6",
   "metadata": {},
   "outputs": [],
   "source": [
    "# Replacing 20 with 2\n",
    "\n",
    "df_3.loc[df_3['bed'] == 20, 'bed'] = 2"
   ]
  },
  {
   "cell_type": "code",
   "execution_count": 130,
   "id": "6a1a6853-9bf9-4c36-9ea9-257ced8594f7",
   "metadata": {},
   "outputs": [],
   "source": [
    "# Replacing 19 with 2 \n",
    "\n",
    "df_3.loc[df_3['bed'] == 19, 'bed'] = 2"
   ]
  },
  {
   "cell_type": "code",
   "execution_count": 131,
   "id": "135ae122-34ac-4132-982c-38e72f6c6c5f",
   "metadata": {},
   "outputs": [],
   "source": [
    "# Replacing 18 with 2 \n",
    "\n",
    "df_3.loc[df_3['bed'] == 18, 'bed'] = 2"
   ]
  },
  {
   "cell_type": "code",
   "execution_count": 132,
   "id": "5179d721-a96f-42a7-a39b-93b8da96f6a3",
   "metadata": {},
   "outputs": [],
   "source": [
    "# Replacing 17 with 2\n",
    "\n",
    "df_3.loc[df_3['bed'] == 17, 'bed'] = 2"
   ]
  },
  {
   "cell_type": "code",
   "execution_count": 133,
   "id": "6813aa08-22cb-44bd-910b-95ad6aad017b",
   "metadata": {},
   "outputs": [],
   "source": [
    "# Replacing 15 with 2\n",
    "\n",
    "df_3.loc[df_3['bed'] == 15, 'bed'] = 2"
   ]
  },
  {
   "cell_type": "code",
   "execution_count": 134,
   "id": "d149ef7b-2249-4696-9df0-d5aec967015c",
   "metadata": {},
   "outputs": [],
   "source": [
    "# Replacing 14 with 1\n",
    "\n",
    "df_3.loc[df_3['bed'] == 14, 'bed'] = 1"
   ]
  },
  {
   "cell_type": "code",
   "execution_count": 135,
   "id": "7fb7b92b-8b36-4499-8d0f-2d5d930f6a92",
   "metadata": {},
   "outputs": [],
   "source": [
    "# Replacing 13 with 1\n",
    "\n",
    "df_3.loc[df_3['bed'] == 13, 'bed'] = 1"
   ]
  },
  {
   "cell_type": "code",
   "execution_count": 136,
   "id": "ed966465-6a8f-4464-8a2a-798d5b7a2545",
   "metadata": {},
   "outputs": [],
   "source": [
    "# Replacing 12 with 1\n",
    "\n",
    "df_3.loc[df_3['bed'] == 12, 'bed'] = 1"
   ]
  },
  {
   "cell_type": "code",
   "execution_count": 138,
   "id": "b2c9a84b-15d2-453a-99be-13685f2c5bee",
   "metadata": {},
   "outputs": [],
   "source": [
    "# Replacing 16 with 2\n",
    "\n",
    "df_3.loc[df_3['bed'] == 16, 'bed'] = 2"
   ]
  },
  {
   "cell_type": "code",
   "execution_count": 140,
   "id": "fcc6ccc5-69e9-4d01-9f9e-f1cfd1812abf",
   "metadata": {},
   "outputs": [],
   "source": [
    "# Replacing 11 with 1\n",
    "\n",
    "df_3.loc[df_3['bed'] == 11, 'bed'] = 1"
   ]
  },
  {
   "cell_type": "code",
   "execution_count": 141,
   "id": "ea727bd7-9fdb-430f-b006-b0f855415875",
   "metadata": {},
   "outputs": [],
   "source": [
    "# Replacing 10 with 1\n",
    "\n",
    "df_3.loc[df_3['bed'] == 10, 'bed'] = 1"
   ]
  },
  {
   "cell_type": "code",
   "execution_count": 142,
   "id": "750eee6e-eae4-44f2-aaf6-6b693dad7b0c",
   "metadata": {},
   "outputs": [
    {
     "data": {
      "text/plain": [
       "3    3930\n",
       "4    2495\n",
       "2     895\n",
       "5     735\n",
       "6     557\n",
       "1     212\n",
       "7     188\n",
       "8     157\n",
       "9     119\n",
       "Name: bed, dtype: int64"
      ]
     },
     "execution_count": 142,
     "metadata": {},
     "output_type": "execute_result"
    }
   ],
   "source": [
    "# Re-checking values\n",
    "\n",
    "df_3['bed'].value_counts(dropna = False)"
   ]
  },
  {
   "cell_type": "code",
   "execution_count": 144,
   "id": "53b4140e-7a8e-40d2-ab1c-7ea78a593cb3",
   "metadata": {},
   "outputs": [
    {
     "data": {
      "text/plain": [
       "2     3530\n",
       "3     2438\n",
       "1     1643\n",
       "4      922\n",
       "5      369\n",
       "6      175\n",
       "7       76\n",
       "8       57\n",
       "9       31\n",
       "10      16\n",
       "12       7\n",
       "15       4\n",
       "14       4\n",
       "11       3\n",
       "16       2\n",
       "13       2\n",
       "18       2\n",
       "20       1\n",
       "35       1\n",
       "36       1\n",
       "25       1\n",
       "17       1\n",
       "19       1\n",
       "56       1\n",
       "Name: bath, dtype: int64"
      ]
     },
     "execution_count": 144,
     "metadata": {},
     "output_type": "execute_result"
    }
   ],
   "source": [
    "# Check values of bathroom\n",
    "\n",
    "df_3['bath'].value_counts(dropna = False)"
   ]
  },
  {
   "cell_type": "markdown",
   "id": "451e98a1-b379-4be1-a921-bdd85e31fbaf",
   "metadata": {},
   "source": [
    "I must do the same thing and fix the high count of bathrooms that are most likely typos.  "
   ]
  },
  {
   "cell_type": "code",
   "execution_count": 152,
   "id": "a94840a4-f1d9-4929-94d4-01ad261067b8",
   "metadata": {},
   "outputs": [],
   "source": [
    "# Change 56 bathroms to 5\n",
    "df_3.loc[df_3['bath'] == 56, 'bath'] = 5"
   ]
  },
  {
   "cell_type": "code",
   "execution_count": 155,
   "id": "b41879e3-b279-42d9-b929-1c16241786c2",
   "metadata": {},
   "outputs": [
    {
     "data": {
      "text/html": [
       "<div>\n",
       "<style scoped>\n",
       "    .dataframe tbody tr th:only-of-type {\n",
       "        vertical-align: middle;\n",
       "    }\n",
       "\n",
       "    .dataframe tbody tr th {\n",
       "        vertical-align: top;\n",
       "    }\n",
       "\n",
       "    .dataframe thead th {\n",
       "        text-align: right;\n",
       "    }\n",
       "</style>\n",
       "<table border=\"1\" class=\"dataframe\">\n",
       "  <thead>\n",
       "    <tr style=\"text-align: right;\">\n",
       "      <th></th>\n",
       "      <th>status</th>\n",
       "      <th>price</th>\n",
       "      <th>bed</th>\n",
       "      <th>bath</th>\n",
       "      <th>acre_lot</th>\n",
       "      <th>state</th>\n",
       "      <th>house_size</th>\n",
       "      <th>sold_date</th>\n",
       "    </tr>\n",
       "  </thead>\n",
       "  <tbody>\n",
       "    <tr>\n",
       "      <th>14343</th>\n",
       "      <td>for_sale</td>\n",
       "      <td>13995000</td>\n",
       "      <td>3</td>\n",
       "      <td>35</td>\n",
       "      <td>0</td>\n",
       "      <td>Puerto Rico</td>\n",
       "      <td>15000</td>\n",
       "      <td>NaN</td>\n",
       "    </tr>\n",
       "  </tbody>\n",
       "</table>\n",
       "</div>"
      ],
      "text/plain": [
       "         status     price  bed  bath  acre_lot        state  house_size  \\\n",
       "14343  for_sale  13995000    3    35         0  Puerto Rico       15000   \n",
       "\n",
       "      sold_date  \n",
       "14343       NaN  "
      ]
     },
     "execution_count": 155,
     "metadata": {},
     "output_type": "execute_result"
    }
   ],
   "source": [
    "# Check listing for 35 bathrooms\n",
    "\n",
    "df_3.loc[df_3['bath'] == 35]"
   ]
  },
  {
   "cell_type": "code",
   "execution_count": 157,
   "id": "d7f11417-02e7-48ef-958a-fc46c6fdfa76",
   "metadata": {},
   "outputs": [],
   "source": [
    "# Change 35 to 4 bathrooms\n",
    "\n",
    "df_3.loc[df_3['bath'] == 35, 'bath'] = 4"
   ]
  },
  {
   "cell_type": "code",
   "execution_count": 159,
   "id": "1f5e412d-b1fe-48fe-8d10-70cafec6edcc",
   "metadata": {},
   "outputs": [],
   "source": [
    "# Change 36 to 4\n",
    "\n",
    "df_3.loc[df_3['bath'] == 36, 'bath'] = 4"
   ]
  },
  {
   "cell_type": "code",
   "execution_count": 160,
   "id": "aeb06dc4-994d-4a1b-8d7d-c2d9bd695d97",
   "metadata": {},
   "outputs": [],
   "source": [
    "# Change 25 to 3 \n",
    "\n",
    "df_3.loc[df_3['bath']  == 25, 'bath'] = 3"
   ]
  },
  {
   "cell_type": "code",
   "execution_count": 161,
   "id": "7cf2ca16-537a-48b5-8722-d5dd48a30f15",
   "metadata": {},
   "outputs": [],
   "source": [
    "# Change 20 to 2 \n",
    "\n",
    "df_3.loc[df_3['bath'] == 20, 'bath'] = 2 "
   ]
  },
  {
   "cell_type": "code",
   "execution_count": 177,
   "id": "1d9a5aa9-17a0-48eb-889d-0806ac879ecb",
   "metadata": {},
   "outputs": [],
   "source": [
    "# Change 19 to 2\n",
    "\n",
    "df_3.loc[df_3['bath'] == 19, 'bath'] = 2"
   ]
  },
  {
   "cell_type": "code",
   "execution_count": 178,
   "id": "f0de7c02-bb98-4631-ab5d-695d388e6ae9",
   "metadata": {},
   "outputs": [],
   "source": [
    "# Change 18 to 2 \n",
    "\n",
    "df_3.loc[df_3['bath'] == 18, 'bath'] = 2"
   ]
  },
  {
   "cell_type": "code",
   "execution_count": 179,
   "id": "c41fea6e-5e85-4cb4-8646-8aa1a878af14",
   "metadata": {},
   "outputs": [],
   "source": [
    "# Change 17 to 2\n",
    "\n",
    "df_3.loc[df_3['bath'] == 17, 'bath'] = 2"
   ]
  },
  {
   "cell_type": "code",
   "execution_count": 180,
   "id": "025c2738-253f-49f5-96c8-8247f379a0b6",
   "metadata": {},
   "outputs": [],
   "source": [
    "# Change 16 to 2 \n",
    "\n",
    "df_3.loc[df_3['bath'] == 16, 'bath'] = 2"
   ]
  },
  {
   "cell_type": "code",
   "execution_count": 181,
   "id": "da4dc314-ffc1-4b91-b28a-6e47811c3d04",
   "metadata": {},
   "outputs": [],
   "source": [
    "# Change 15 to 2 \n",
    "\n",
    "df_3.loc[df_3['bath'] == 15, 'bath'] = 2"
   ]
  },
  {
   "cell_type": "code",
   "execution_count": 182,
   "id": "bdd3d14a-ba35-47ba-ba24-e5478321331e",
   "metadata": {},
   "outputs": [],
   "source": [
    "# Change 14 to 1\n",
    "\n",
    "df_3.loc[df_3['bath'] == 14, 'bath'] = 1"
   ]
  },
  {
   "cell_type": "code",
   "execution_count": 183,
   "id": "01a6d435-84b8-4067-a499-d5a5d9e52bc6",
   "metadata": {},
   "outputs": [],
   "source": [
    "# Change 13 to 1\n",
    "\n",
    "df_3.loc[df_3['bath'] == 13, 'bath'] = 1"
   ]
  },
  {
   "cell_type": "code",
   "execution_count": 185,
   "id": "303872ac-26e8-4c9c-ad54-1f66a62d7e08",
   "metadata": {},
   "outputs": [],
   "source": [
    "# Change 12 to 1\n",
    "\n",
    "df_3.loc[df_3['bath'] == 12, 'bath'] = 1"
   ]
  },
  {
   "cell_type": "code",
   "execution_count": 186,
   "id": "7b4d66e1-f1fe-4bdb-8207-8ccc4b0a13ae",
   "metadata": {},
   "outputs": [],
   "source": [
    "# Change 11 to 1\n",
    "\n",
    "df_3.loc[df_3['bath'] == 11, 'bath'] = 1"
   ]
  },
  {
   "cell_type": "code",
   "execution_count": 187,
   "id": "851a3130-f1df-4249-bbcc-1ba6af99940e",
   "metadata": {},
   "outputs": [],
   "source": [
    "# Change 10 to 1\n",
    "\n",
    "df_3.loc[df_3['bath'] == 10, 'bath'] = 1"
   ]
  },
  {
   "cell_type": "code",
   "execution_count": 189,
   "id": "880d52df-fb31-453d-ab36-f9cd4217ab5a",
   "metadata": {},
   "outputs": [
    {
     "data": {
      "text/plain": [
       "2    3541\n",
       "3    2439\n",
       "1    1675\n",
       "4     924\n",
       "5     370\n",
       "6     175\n",
       "7      76\n",
       "8      57\n",
       "9      31\n",
       "Name: bath, dtype: int64"
      ]
     },
     "execution_count": 189,
     "metadata": {},
     "output_type": "execute_result"
    }
   ],
   "source": [
    "# Re-checking values of bathrooms\n",
    "\n",
    "df_3['bath'].value_counts(dropna = False)"
   ]
  },
  {
   "cell_type": "code",
   "execution_count": 190,
   "id": "ec9e47d2-bd16-4a6b-8622-fef0caf68ff0",
   "metadata": {},
   "outputs": [
    {
     "data": {
      "text/plain": [
       "0       6926\n",
       "1        997\n",
       "2        419\n",
       "3        192\n",
       "4        124\n",
       "        ... \n",
       "300        1\n",
       "74         1\n",
       "217        1\n",
       "1261       1\n",
       "109        1\n",
       "Name: acre_lot, Length: 136, dtype: int64"
      ]
     },
     "execution_count": 190,
     "metadata": {},
     "output_type": "execute_result"
    }
   ],
   "source": [
    "# Check values of acre_lot\n",
    "\n",
    "df_3['acre_lot'].value_counts(dropna = False)"
   ]
  },
  {
   "cell_type": "code",
   "execution_count": 191,
   "id": "1b2dba56-160c-4db7-902f-d50bdf489c87",
   "metadata": {},
   "outputs": [
    {
     "data": {
      "text/html": [
       "<div>\n",
       "<style scoped>\n",
       "    .dataframe tbody tr th:only-of-type {\n",
       "        vertical-align: middle;\n",
       "    }\n",
       "\n",
       "    .dataframe tbody tr th {\n",
       "        vertical-align: top;\n",
       "    }\n",
       "\n",
       "    .dataframe thead th {\n",
       "        text-align: right;\n",
       "    }\n",
       "</style>\n",
       "<table border=\"1\" class=\"dataframe\">\n",
       "  <thead>\n",
       "    <tr style=\"text-align: right;\">\n",
       "      <th></th>\n",
       "      <th>status</th>\n",
       "      <th>price</th>\n",
       "      <th>bed</th>\n",
       "      <th>bath</th>\n",
       "      <th>acre_lot</th>\n",
       "      <th>state</th>\n",
       "      <th>house_size</th>\n",
       "      <th>sold_date</th>\n",
       "    </tr>\n",
       "  </thead>\n",
       "  <tbody>\n",
       "    <tr>\n",
       "      <th>18814</th>\n",
       "      <td>for_sale</td>\n",
       "      <td>350000</td>\n",
       "      <td>4</td>\n",
       "      <td>2</td>\n",
       "      <td>1261</td>\n",
       "      <td>Puerto Rico</td>\n",
       "      <td>2820</td>\n",
       "      <td>NaN</td>\n",
       "    </tr>\n",
       "  </tbody>\n",
       "</table>\n",
       "</div>"
      ],
      "text/plain": [
       "         status   price  bed  bath  acre_lot        state  house_size  \\\n",
       "18814  for_sale  350000    4     2      1261  Puerto Rico        2820   \n",
       "\n",
       "      sold_date  \n",
       "18814       NaN  "
      ]
     },
     "execution_count": 191,
     "metadata": {},
     "output_type": "execute_result"
    }
   ],
   "source": [
    "# Check the acreage for entry 1261, seems extreme for a house\n",
    "\n",
    "df_3.loc[df_3['acre_lot'] == 1261]"
   ]
  },
  {
   "cell_type": "code",
   "execution_count": 193,
   "id": "281e7f1d-e890-4e95-a980-198404d08b1c",
   "metadata": {},
   "outputs": [],
   "source": [
    "# Change acreage to 12\n",
    "\n",
    "df_3.loc[df_3['acre_lot'] == 1261, 'acre_lot'] = 12"
   ]
  },
  {
   "cell_type": "code",
   "execution_count": 194,
   "id": "72a162be-b09b-4c38-bde0-41fc3565e974",
   "metadata": {},
   "outputs": [
    {
     "data": {
      "text/plain": [
       "Connecticut       2802\n",
       "Massachusetts     2281\n",
       "Rhode Island      1713\n",
       "Puerto Rico       1521\n",
       "New York           414\n",
       "New Hampshire      325\n",
       "Vermont            126\n",
       "Virgin Islands     105\n",
       "New Jersey           1\n",
       "Name: state, dtype: int64"
      ]
     },
     "execution_count": 194,
     "metadata": {},
     "output_type": "execute_result"
    }
   ],
   "source": [
    "# Check value of state\n",
    "\n",
    "df_3['state'].value_counts(dropna = False)"
   ]
  },
  {
   "cell_type": "code",
   "execution_count": 195,
   "id": "1c1f2831-e351-4f8e-a59b-4ade4b398d01",
   "metadata": {},
   "outputs": [
    {
     "data": {
      "text/plain": [
       "1200    66\n",
       "1500    62\n",
       "2000    62\n",
       "2500    49\n",
       "960     48\n",
       "        ..\n",
       "1125     1\n",
       "4224     1\n",
       "1515     1\n",
       "4080     1\n",
       "1727     1\n",
       "Name: house_size, Length: 3360, dtype: int64"
      ]
     },
     "execution_count": 195,
     "metadata": {},
     "output_type": "execute_result"
    }
   ],
   "source": [
    "# Check value of house size\n",
    "\n",
    "df_3['house_size'].value_counts(dropna = False)"
   ]
  },
  {
   "cell_type": "code",
   "execution_count": 196,
   "id": "307592d2-ff1f-4430-a898-ff95c830d12f",
   "metadata": {},
   "outputs": [
    {
     "data": {
      "text/plain": [
       "NaN           4932\n",
       "10/18/2021       6\n",
       "1/4/2022         6\n",
       "12/1/2021        6\n",
       "10/1/2021        6\n",
       "              ... \n",
       "10/16/2003       1\n",
       "6/7/2010         1\n",
       "7/11/2002        1\n",
       "10/25/2002       1\n",
       "8/1/1989         1\n",
       "Name: sold_date, Length: 3160, dtype: int64"
      ]
     },
     "execution_count": 196,
     "metadata": {},
     "output_type": "execute_result"
    }
   ],
   "source": [
    "# Check value count of sold date \n",
    "\n",
    "df_3['sold_date'].value_counts(dropna = False)"
   ]
  },
  {
   "cell_type": "code",
   "execution_count": 197,
   "id": "d3d2ac26-8fed-41ee-b043-86d22efceb78",
   "metadata": {},
   "outputs": [
    {
     "data": {
      "text/plain": [
       "(9288, 8)"
      ]
     },
     "execution_count": 197,
     "metadata": {},
     "output_type": "execute_result"
    }
   ],
   "source": [
    "# Check shape \n",
    "\n",
    "df_3.shape"
   ]
  },
  {
   "cell_type": "code",
   "execution_count": 199,
   "id": "921f8cb5-c976-4c84-9dff-e3970774a4a8",
   "metadata": {},
   "outputs": [
    {
     "data": {
      "text/html": [
       "<div>\n",
       "<style scoped>\n",
       "    .dataframe tbody tr th:only-of-type {\n",
       "        vertical-align: middle;\n",
       "    }\n",
       "\n",
       "    .dataframe tbody tr th {\n",
       "        vertical-align: top;\n",
       "    }\n",
       "\n",
       "    .dataframe thead th {\n",
       "        text-align: right;\n",
       "    }\n",
       "</style>\n",
       "<table border=\"1\" class=\"dataframe\">\n",
       "  <thead>\n",
       "    <tr style=\"text-align: right;\">\n",
       "      <th></th>\n",
       "      <th>price</th>\n",
       "      <th>bed</th>\n",
       "      <th>bath</th>\n",
       "      <th>acre_lot</th>\n",
       "      <th>house_size</th>\n",
       "    </tr>\n",
       "  </thead>\n",
       "  <tbody>\n",
       "    <tr>\n",
       "      <th>count</th>\n",
       "      <td>9.288000e+03</td>\n",
       "      <td>9288.000000</td>\n",
       "      <td>9288.000000</td>\n",
       "      <td>9288.000000</td>\n",
       "      <td>9.288000e+03</td>\n",
       "    </tr>\n",
       "    <tr>\n",
       "      <th>mean</th>\n",
       "      <td>5.891960e+05</td>\n",
       "      <td>3.707149</td>\n",
       "      <td>2.577196</td>\n",
       "      <td>16.583118</td>\n",
       "      <td>2.526759e+03</td>\n",
       "    </tr>\n",
       "    <tr>\n",
       "      <th>std</th>\n",
       "      <td>1.241282e+06</td>\n",
       "      <td>1.421407</td>\n",
       "      <td>1.325494</td>\n",
       "      <td>1045.715917</td>\n",
       "      <td>1.514505e+04</td>\n",
       "    </tr>\n",
       "    <tr>\n",
       "      <th>min</th>\n",
       "      <td>1.000000e+04</td>\n",
       "      <td>1.000000</td>\n",
       "      <td>1.000000</td>\n",
       "      <td>0.000000</td>\n",
       "      <td>1.810000e+02</td>\n",
       "    </tr>\n",
       "    <tr>\n",
       "      <th>25%</th>\n",
       "      <td>2.399000e+05</td>\n",
       "      <td>3.000000</td>\n",
       "      <td>2.000000</td>\n",
       "      <td>0.000000</td>\n",
       "      <td>1.296000e+03</td>\n",
       "    </tr>\n",
       "    <tr>\n",
       "      <th>50%</th>\n",
       "      <td>3.499435e+05</td>\n",
       "      <td>3.000000</td>\n",
       "      <td>2.000000</td>\n",
       "      <td>0.000000</td>\n",
       "      <td>1.870000e+03</td>\n",
       "    </tr>\n",
       "    <tr>\n",
       "      <th>75%</th>\n",
       "      <td>5.549250e+05</td>\n",
       "      <td>4.000000</td>\n",
       "      <td>3.000000</td>\n",
       "      <td>1.000000</td>\n",
       "      <td>2.856000e+03</td>\n",
       "    </tr>\n",
       "    <tr>\n",
       "      <th>max</th>\n",
       "      <td>6.000000e+07</td>\n",
       "      <td>9.000000</td>\n",
       "      <td>9.000000</td>\n",
       "      <td>100000.000000</td>\n",
       "      <td>1.450112e+06</td>\n",
       "    </tr>\n",
       "  </tbody>\n",
       "</table>\n",
       "</div>"
      ],
      "text/plain": [
       "              price          bed         bath       acre_lot    house_size\n",
       "count  9.288000e+03  9288.000000  9288.000000    9288.000000  9.288000e+03\n",
       "mean   5.891960e+05     3.707149     2.577196      16.583118  2.526759e+03\n",
       "std    1.241282e+06     1.421407     1.325494    1045.715917  1.514505e+04\n",
       "min    1.000000e+04     1.000000     1.000000       0.000000  1.810000e+02\n",
       "25%    2.399000e+05     3.000000     2.000000       0.000000  1.296000e+03\n",
       "50%    3.499435e+05     3.000000     2.000000       0.000000  1.870000e+03\n",
       "75%    5.549250e+05     4.000000     3.000000       1.000000  2.856000e+03\n",
       "max    6.000000e+07     9.000000     9.000000  100000.000000  1.450112e+06"
      ]
     },
     "execution_count": 199,
     "metadata": {},
     "output_type": "execute_result"
    }
   ],
   "source": [
    "# Perform descriptive analysis again\n",
    "\n",
    "df_3.describe()"
   ]
  },
  {
   "cell_type": "code",
   "execution_count": 200,
   "id": "da7e3139-d42f-4f2b-844f-40fdcef5ab0f",
   "metadata": {},
   "outputs": [],
   "source": [
    "df_3.describe().to_clipboard()"
   ]
  },
  {
   "cell_type": "markdown",
   "id": "84b86019-dc60-4f0e-84f7-6e246093c5bf",
   "metadata": {},
   "source": [
    "# Exports"
   ]
  },
  {
   "cell_type": "code",
   "execution_count": 220,
   "id": "39180ef8-3a29-4315-b988-63a252f01d6a",
   "metadata": {},
   "outputs": [],
   "source": [
    "# Exporting as csv file\n",
    "\n",
    "df_3.to_csv(os.path.join(path, 'Data', 'Prepared Data', 'realtor-dataset-100k.csv'))"
   ]
  },
  {
   "cell_type": "code",
   "execution_count": 223,
   "id": "09bdfcb0-b48c-457e-916a-69bf0a8c460c",
   "metadata": {},
   "outputs": [],
   "source": [
    "df_3.to_pickle(os.path.join(path, '03 Scripts', 'realtor-dataset-100k.pkl'))"
   ]
  },
  {
   "cell_type": "code",
   "execution_count": null,
   "id": "57e884ae-7355-456d-bae8-00fe52b0db8b",
   "metadata": {},
   "outputs": [],
   "source": []
  }
 ],
 "metadata": {
  "kernelspec": {
   "display_name": "Python 3 (ipykernel)",
   "language": "python",
   "name": "python3"
  },
  "language_info": {
   "codemirror_mode": {
    "name": "ipython",
    "version": 3
   },
   "file_extension": ".py",
   "mimetype": "text/x-python",
   "name": "python",
   "nbconvert_exporter": "python",
   "pygments_lexer": "ipython3",
   "version": "3.9.7"
  }
 },
 "nbformat": 4,
 "nbformat_minor": 5
}
